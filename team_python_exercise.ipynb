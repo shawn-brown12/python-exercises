{
 "cells": [
  {
   "cell_type": "code",
   "execution_count": 56,
   "id": "d1ad14ee",
   "metadata": {},
   "outputs": [
    {
     "ename": "SyntaxError",
     "evalue": "invalid syntax (2462050157.py, line 4)",
     "output_type": "error",
     "traceback": [
      "\u001b[0;36m  Input \u001b[0;32mIn [56]\u001b[0;36m\u001b[0m\n\u001b[0;31m    ```\u001b[0m\n\u001b[0m    ^\u001b[0m\n\u001b[0;31mSyntaxError\u001b[0m\u001b[0;31m:\u001b[0m invalid syntax\n"
     ]
    }
   ],
   "source": [
    "# v1\n",
    "\n",
    "first_name = input(\"Enter your first name here: \")\n",
    "\n",
    "''' Takes in a first name and returns the first two letters '''\n",
    "\n",
    "#Function to get first two letters of first name\n",
    "def first(first_name):\n",
    "    while\n",
    "    first_name = first_name[:2]\n",
    "    return first_name.lower().strip()\n",
    "\n",
    "first(first_name)\n",
    "\n"
   ]
  },
  {
   "cell_type": "code",
   "execution_count": 41,
   "id": "ae1fb8d6",
   "metadata": {},
   "outputs": [
    {
     "name": "stdout",
     "output_type": "stream",
     "text": [
      "Enter your first name here: shawn\n",
      "How many letters do you want from your first name in your username? 2\n",
      "Would you like the letters capitalized? (y/n) n\n"
     ]
    },
    {
     "data": {
      "text/plain": [
       "'SH'"
      ]
     },
     "execution_count": 41,
     "metadata": {},
     "output_type": "execute_result"
    }
   ],
   "source": [
    "# v2 \n",
    "#Function to get variable amount of letters from first name, lower or capital\n",
    "\n",
    "def first(first_name, char_amount, capital):\n",
    "    '''\n",
    "    \n",
    "    Accepts a string through the input variable first_name, the amount of characters you want \n",
    "    \n",
    "    from your name in your username, and whether its lowercase or capitalized.\n",
    "    \n",
    "    first_name = the input below\n",
    "    \n",
    "    char_amount = an integer defining how many characters they'd like from their first name to be included\n",
    "    \n",
    "    capital = whether they want the letters to be lowercase or capitalized\n",
    "    \n",
    "    '''\n",
    "    \n",
    "    first_name = input(\"Enter your first name here: \")\n",
    "    \n",
    "    char_amount = int(input('How many letters do you want from your first name in your username? '))\n",
    "    \n",
    "    capitalized = input('Would you like the letters capitalized? (y/n) ')\n",
    "    \n",
    "    if capitalized == 'y' or 'Y':\n",
    "        \n",
    "        first_name = first_name[:(char_amount)].upper().strip()\n",
    "    \n",
    "    else:\n",
    "        \n",
    "        first_name = first_name[:(char_amount)].lower().strip()\n",
    "        \n",
    "    return first_name\n",
    "\n",
    "\n",
    "first(first_name, 3, 0)\n",
    "\n"
   ]
  },
  {
   "cell_type": "markdown",
   "id": "f79b3013",
   "metadata": {},
   "source": [
    "## Final (rough) program\n"
   ]
  },
  {
   "cell_type": "code",
   "execution_count": 75,
   "id": "216dbb1b",
   "metadata": {},
   "outputs": [
    {
     "name": "stdout",
     "output_type": "stream",
     "text": [
      "Enter your first name here: shawn\n",
      "Enter Last Name: brown\n"
     ]
    },
    {
     "data": {
      "text/plain": [
       "'shbrow'"
      ]
     },
     "execution_count": 75,
     "metadata": {},
     "output_type": "execute_result"
    }
   ],
   "source": [
    "\n",
    "first_name = input(\"Enter your first name here: \")\n",
    "last_name = input(\"Enter Last Name: \")\n",
    "\n",
    "#Function to get first two letters of first name\n",
    "def first(fn):\n",
    "    \n",
    "    fn = first_name[:2]\n",
    "    return fn.lower().strip()\n",
    "\n",
    "def last(ln):\n",
    "\n",
    "    ln = last_name[:4]\n",
    "    return ln.lower().strip()\n",
    "\n",
    "\n",
    "def user_name(fn, ln):\n",
    "    \n",
    "    username = fn + ln\n",
    "    return username\n",
    "\n",
    "user_name(first(first_name), last(last_name))"
   ]
  },
  {
   "cell_type": "code",
   "execution_count": 9,
   "id": "73f6b210",
   "metadata": {},
   "outputs": [],
   "source": [
    "def user_name (first_name, last_name, birth_date):\n",
    "    user_name = first_name[:3] + last_name[-2:] + birth_date[-2:]\n",
    "    return user_name"
   ]
  },
  {
   "cell_type": "code",
   "execution_count": 80,
   "id": "8f767614",
   "metadata": {},
   "outputs": [
    {
     "name": "stdout",
     "output_type": "stream",
     "text": [
      "Please enter the day (DD) you were born: 30\n",
      "Please enter the month (MM) you were born: 01\n",
      "Please enter the year (YYYY) you were born: 1994\n",
      "Is your birthday (y/n?): 1-30-1994y\n"
     ]
    },
    {
     "data": {
      "text/plain": [
       "'shbrow94'"
      ]
     },
     "execution_count": 80,
     "metadata": {},
     "output_type": "execute_result"
    }
   ],
   "source": [
    "\n",
    "\n",
    "def birth_date():\n",
    "    \"\"\"This function takes input for the birth date and outputs it in the desired format.\"\"\"\n",
    "    from datetime import date\n",
    "    current_year = date.today().year\n",
    "    #While loop for user input.\n",
    "    while True:\n",
    "            try:\n",
    "                #Int is used for easier input verification.\n",
    "                day = int(input('Please enter the day (DD) you were born: '))\n",
    "                month = int(input('Please enter the month (MM) you were born: '))\n",
    "                year = int(input('Please enter the year (YYYY) you were born: '))\n",
    "                #Getting through the two if statements is the only way to exit the while loop.\n",
    "                if 0 < day <= 31 and 0 < month <= 12 and 1800 < year <= current_year:\n",
    "                    b_day = str(day)\n",
    "                    b_month = str(month)\n",
    "                    b_year = str(year)\n",
    "                    b_date =  b_month + '-' + b_day + '-' + b_year\n",
    "                    loop_exit = input('Is your birthday (y/n?): '+ b_date)\n",
    "                    if loop_exit.lower() == 'y' or loop_exit.lower == 'yes':\n",
    "                        #This is the only loop exit.\n",
    "                        break\n",
    "                else:\n",
    "                    print('You entered invalid numbers. Try again...')\n",
    "            #Exception handling for when the user enters a non-number char for int input.\n",
    "            except ValueError:\n",
    "                print('Oops!  That was not a number.  Try again...')\n",
    "    return b_date\n",
    "\n",
    "########\n",
    "\n",
    "def user_name (first_name, last_name, birth_date):\n",
    "    user_name = first_name[:3] + last_name[:4] + birth_date[-2:]\n",
    "    return user_name\n",
    "\n",
    "def new_user():\n",
    "    first_name = first_name()\n",
    "    last_name = last_name()\n",
    "    birth_date = birth_date()\n",
    "    user_name = user_name(first_name,last_name,birth_date)\n",
    "    \n",
    "user_name(first(first_name), last(last_name), birth_date())"
   ]
  },
  {
   "cell_type": "markdown",
   "id": "fc035e02",
   "metadata": {},
   "source": [
    "## MVP"
   ]
  },
  {
   "cell_type": "code",
   "execution_count": 3,
   "id": "99a4de11",
   "metadata": {},
   "outputs": [
    {
     "name": "stdout",
     "output_type": "stream",
     "text": [
      "Enter your first name here: shawn\n",
      "Enter your last name here: brown\n",
      "Please enter the day (DD) you were born: 30\n",
      "Please enter the month (MM) you were born: 01\n",
      "Please enter the year (YYYY) you were born: 1994\n",
      "Is your birthday (y/n?): 1-30-1994y\n"
     ]
    },
    {
     "data": {
      "text/plain": [
       "'shbrow94'"
      ]
     },
     "execution_count": 3,
     "metadata": {},
     "output_type": "execute_result"
    }
   ],
   "source": [
    "#Inputs to take in the first and last names\n",
    "\n",
    "first_name = input(\"Enter your first name here: \")\n",
    "\n",
    "last_name = input(\"Enter your last name here: \")\n",
    "\n",
    "#Function to get first two letters of first name\n",
    "\n",
    "def first(fn):\n",
    "    \n",
    "    '''Uses slicing to collect the first two letters in the first name, lowercases, and strips them'''\n",
    "    \n",
    "    fn = first_name[:2]\n",
    "    return fn.lower().strip()\n",
    "\n",
    "#Function to get the first four of the last name\n",
    "\n",
    "def last(ln):\n",
    "    \n",
    "    '''Same as above, collects first four of last name, lowercases them, and strips them'''\n",
    "    \n",
    "    ln = last_name[:4]\n",
    "    return ln.lower().strip()\n",
    "\n",
    "def birth_date():\n",
    "    \"\"\"This function takes input for the birth date and outputs it in the desired format.\"\"\"\n",
    "    from datetime import date\n",
    "    current_year = date.today().year\n",
    "    #While loop for user input.\n",
    "    while True:\n",
    "            try:\n",
    "                #Int is used for easier input verification.\n",
    "                day = int(input('Please enter the day (DD) you were born: '))\n",
    "                month = int(input('Please enter the month (MM) you were born: '))\n",
    "                year = int(input('Please enter the year (YYYY) you were born: '))\n",
    "                #Getting through the two if statements is the only way to exit the while loop.\n",
    "                if 0 < day <= 31 and 0 < month <= 12 and 1800 < year <= current_year:\n",
    "                    b_day = str(day)\n",
    "                    b_month = str(month)\n",
    "                    b_year = str(year)\n",
    "                    b_date =  b_month + '-' + b_day + '-' + b_year\n",
    "                    loop_exit = input('Is your birthday (y/n?): '+ b_date)\n",
    "                    if loop_exit.lower() == 'y' or loop_exit.lower == 'yes':\n",
    "                        #This is the only loop exit.\n",
    "                        break\n",
    "                else:\n",
    "                    print('You entered invalid numbers. Try again...')\n",
    "            #Exception handling for when the user enters a non-number char for int input.\n",
    "            except ValueError:\n",
    "                print('Oops!  That was not a number.  Try again...')\n",
    "    return b_date\n",
    "\n",
    "########\n",
    "\n",
    "def user_name (first_name, last_name, birth_date):\n",
    "    user_name = first_name + last_name + birth_date[-2:]\n",
    "    return user_name\n",
    "\n",
    "def new_user():\n",
    "    first_name = first_name()\n",
    "    last_name = last_name()\n",
    "    birth_date = birth_date()\n",
    "    user_name = user_name(first_name,last_name,birth_date)\n",
    "    \n",
    "user_name(first(first_name), last(last_name), birth_date())"
   ]
  },
  {
   "cell_type": "code",
   "execution_count": null,
   "id": "f5d8739f",
   "metadata": {},
   "outputs": [],
   "source": []
  },
  {
   "cell_type": "code",
   "execution_count": null,
   "id": "944a8842",
   "metadata": {},
   "outputs": [],
   "source": []
  }
 ],
 "metadata": {
  "kernelspec": {
   "display_name": "Python 3 (ipykernel)",
   "language": "python",
   "name": "python3"
  },
  "language_info": {
   "codemirror_mode": {
    "name": "ipython",
    "version": 3
   },
   "file_extension": ".py",
   "mimetype": "text/x-python",
   "name": "python",
   "nbconvert_exporter": "python",
   "pygments_lexer": "ipython3",
   "version": "3.9.13"
  }
 },
 "nbformat": 4,
 "nbformat_minor": 5
}
