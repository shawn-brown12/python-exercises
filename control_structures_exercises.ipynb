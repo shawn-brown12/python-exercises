{
 "cells": [
  {
   "cell_type": "markdown",
   "id": "9a00d952",
   "metadata": {},
   "source": [
    "# Control Structures Exercises"
   ]
  },
  {
   "cell_type": "markdown",
   "id": "5ae44a53",
   "metadata": {},
   "source": [
    "### Conditional Basics"
   ]
  },
  {
   "cell_type": "markdown",
   "id": "7feb740a",
   "metadata": {},
   "source": [
    "- Prompt the user for a day of the week, print out whether the day is Monday or not\n",
    "\n",
    "- Prompt the user for a day of the week, print out whether the day is a weekday or a weekend\n",
    "\n",
    "- Create variables and make up values for\n",
    "\n",
    "  - the number of hours worked in one week\n",
    "  \n",
    "  - the hourly rate\n",
    "  \n",
    "  - how much the week's paycheck will be\n",
    "  \n",
    "- write the python code that calculates the weekly paycheck. You get paid time and a half if you work more than 40 hours"
   ]
  },
  {
   "cell_type": "markdown",
   "id": "eee2379a",
   "metadata": {},
   "source": [
    "#### First problem"
   ]
  },
  {
   "cell_type": "code",
   "execution_count": 6,
   "id": "798f94a5",
   "metadata": {},
   "outputs": [
    {
     "name": "stdout",
     "output_type": "stream",
     "text": [
      "Enter the day of the week: Tuesday\n",
      "Not Monday!\n"
     ]
    }
   ],
   "source": [
    "day_of_week = input('Enter the day of the week: ')\n",
    "\n",
    "if day_of_week.strip().lower() == 'monday':\n",
    "    print('It\\'s Monday!')\n",
    "else:\n",
    "    print('Not Monday!')"
   ]
  },
  {
   "cell_type": "code",
   "execution_count": 5,
   "id": "2f6dca75",
   "metadata": {},
   "outputs": [
    {
     "name": "stdout",
     "output_type": "stream",
     "text": [
      "Ugh, today is Monday.\n",
      "Today isn't Monday!!\n",
      "Today isn't Monday!!\n",
      "Today isn't Monday!!\n",
      "Today isn't Monday!!\n",
      "Today isn't Monday!!\n",
      "Today isn't Monday!!\n"
     ]
    }
   ],
   "source": [
    "\n",
    "days_of_week = ['Monday', 'Tuesday', 'Wednesday', 'Thursday', 'Friday', 'Saturday', 'Sunday']\n",
    "\n",
    "for day in days_of_week:\n",
    "    if day == 'Monday':\n",
    "        print('Ugh, today is Monday.')\n",
    "    else:\n",
    "        print(\"Today isn't Monday!!\")\n",
    "    "
   ]
  },
  {
   "cell_type": "markdown",
   "id": "4a132dc2",
   "metadata": {},
   "source": [
    "#### Second Problem"
   ]
  },
  {
   "cell_type": "code",
   "execution_count": 11,
   "id": "2644abdf",
   "metadata": {},
   "outputs": [
    {
     "name": "stdout",
     "output_type": "stream",
     "text": [
      "Enter the day of the week: sunday\n",
      "Weekend!\n"
     ]
    }
   ],
   "source": [
    "day_of_week = input('Enter the day of the week: ')\n",
    "\n",
    "if day_of_week.strip().lower() == 'saturday' or day_of_week.strip().lower() == 'sunday':\n",
    "    print('Weekend!')\n",
    "else:\n",
    "    print('Not weekend!')"
   ]
  },
  {
   "cell_type": "code",
   "execution_count": 15,
   "id": "28d069d6",
   "metadata": {},
   "outputs": [
    {
     "name": "stdout",
     "output_type": "stream",
     "text": [
      "Enter the day of the week: tuesday\n",
      "Not weekend!\n"
     ]
    }
   ],
   "source": [
    "day_of_week = input('Enter the day of the week: ')\n",
    "\n",
    "if day_of_week.strip().lower() in ['saturday', 'sunday']:\n",
    "    print('Weekend!')\n",
    "else:\n",
    "    print('Not weekend!')"
   ]
  },
  {
   "cell_type": "code",
   "execution_count": 14,
   "id": "3c2e8575",
   "metadata": {},
   "outputs": [
    {
     "name": "stdout",
     "output_type": "stream",
     "text": [
      "It's a weekday...\n",
      "It's a weekday...\n",
      "It's a weekday...\n",
      "It's a weekday...\n",
      "It's a weekday...\n",
      "It's the weekend, baby!\n",
      "It's the weekend, baby!\n"
     ]
    }
   ],
   "source": [
    "days_of_week = ['Monday', 'Tuesday', 'Wednesday', 'Thursday', 'Friday', 'Saturday', 'Sunday']\n",
    "\n",
    "for day in days_of_week:\n",
    "    if day == 'Saturday' or day == 'Sunday':\n",
    "        print(\"It's the weekend, baby!\")\n",
    "    else:\n",
    "        print(\"It's a weekday...\")\n",
    "        "
   ]
  },
  {
   "cell_type": "markdown",
   "id": "ae42a965",
   "metadata": {},
   "source": [
    "#### Third problem"
   ]
  },
  {
   "cell_type": "code",
   "execution_count": null,
   "id": "b52b7b98",
   "metadata": {},
   "outputs": [],
   "source": [
    "hours_worked = 29 \n",
    "hourly_rate = 37\n",
    "weeks_check = hours_worked * hourly_rate\n",
    "\n",
    "print(weeks_check)"
   ]
  },
  {
   "cell_type": "code",
   "execution_count": 16,
   "id": "8e83b5c8",
   "metadata": {},
   "outputs": [
    {
     "name": "stdout",
     "output_type": "stream",
     "text": [
      "You worked hard!\n",
      " Your weekly paycheck is 1400.0.\n"
     ]
    }
   ],
   "source": [
    "hours_worked = 60\n",
    "hourly_rate = 20\n",
    "weekly_paycheck = 0 \n",
    "\n",
    "if hours_worked <= 40:\n",
    "    weekly_paycheck = hours_worked * hourly_rate\n",
    "    print('Your weekly paycheck is {}.'.format(weekly_paycheck))\n",
    "    \n",
    "else:\n",
    "    weekly_paycheck = 40 * hourly_rate + (hours_worked - 40) * hourly_rate * 1.5\n",
    "    print('You worked hard!\\n Your weekly paycheck is {}.'.format(weekly_paycheck))"
   ]
  },
  {
   "cell_type": "markdown",
   "id": "dcc2f774",
   "metadata": {},
   "source": [
    "### Loop Basics"
   ]
  },
  {
   "cell_type": "markdown",
   "id": "19f9b2dc",
   "metadata": {},
   "source": [
    "#### While Loops\n",
    "\n",
    "- Create an integer variable i with a value of 5.\n",
    "- Create a while loop that runs so long as i is less than or equal to 15\n",
    "- Each loop iteration, output the current value of i, then increment i by one.\n",
    "- Create a while loop that will count by 2's starting with 0 and ending at 100. Follow each number with a new line.\n",
    "- Alter your loop to count backwards by 5's from 100 to -10.\n",
    "- Create a while loop that starts at 2, and displays the number squared on each line while the number is less than 1,000,000."
   ]
  },
  {
   "cell_type": "code",
   "execution_count": 17,
   "id": "fe370925",
   "metadata": {},
   "outputs": [],
   "source": [
    "i = 5"
   ]
  },
  {
   "cell_type": "code",
   "execution_count": 15,
   "id": "6f4951ec",
   "metadata": {},
   "outputs": [
    {
     "name": "stdout",
     "output_type": "stream",
     "text": [
      "5\n",
      "6\n",
      "7\n",
      "8\n",
      "9\n",
      "10\n",
      "11\n",
      "12\n",
      "13\n",
      "14\n",
      "15\n"
     ]
    }
   ],
   "source": [
    "while i <= 15:\n",
    "    print(i)\n",
    "    i += 1"
   ]
  },
  {
   "cell_type": "code",
   "execution_count": 19,
   "id": "cadd9134",
   "metadata": {},
   "outputs": [
    {
     "name": "stdout",
     "output_type": "stream",
     "text": [
      "0\n",
      "2\n",
      "4\n",
      "6\n",
      "8\n",
      "10\n",
      "12\n",
      "14\n",
      "16\n",
      "18\n",
      "20\n",
      "22\n",
      "24\n",
      "26\n",
      "28\n",
      "30\n",
      "32\n",
      "34\n",
      "36\n",
      "38\n",
      "40\n",
      "42\n",
      "44\n",
      "46\n",
      "48\n",
      "50\n",
      "52\n",
      "54\n",
      "56\n",
      "58\n",
      "60\n",
      "62\n",
      "64\n",
      "66\n",
      "68\n",
      "70\n",
      "72\n",
      "74\n",
      "76\n",
      "78\n",
      "80\n",
      "82\n",
      "84\n",
      "86\n",
      "88\n",
      "90\n",
      "92\n",
      "94\n",
      "96\n",
      "98\n",
      "100\n"
     ]
    }
   ],
   "source": [
    "i = 0\n",
    "\n",
    "while i in range(101):\n",
    "    print(i)\n",
    "    i += 2"
   ]
  },
  {
   "cell_type": "code",
   "execution_count": 21,
   "id": "21910618",
   "metadata": {},
   "outputs": [
    {
     "name": "stdout",
     "output_type": "stream",
     "text": [
      "100\n",
      "95\n",
      "90\n",
      "85\n",
      "80\n",
      "75\n",
      "70\n",
      "65\n",
      "60\n",
      "55\n",
      "50\n",
      "45\n",
      "40\n",
      "35\n",
      "30\n",
      "25\n",
      "20\n",
      "15\n",
      "10\n",
      "5\n",
      "0\n",
      "-5\n",
      "-10\n"
     ]
    }
   ],
   "source": [
    "i = 100\n",
    "\n",
    "while i >= -10:\n",
    "    print(i)\n",
    "    i += -5"
   ]
  },
  {
   "cell_type": "code",
   "execution_count": 22,
   "id": "42d2171f",
   "metadata": {},
   "outputs": [
    {
     "name": "stdout",
     "output_type": "stream",
     "text": [
      "2\n",
      "4\n",
      "16\n",
      "256\n",
      "65536\n",
      "4294967296\n"
     ]
    }
   ],
   "source": [
    "n = 2\n",
    "\n",
    "while n > 1:\n",
    "    print(n)\n",
    "    if n > 1_000_000:\n",
    "        break\n",
    "    n = n ** 2\n",
    "    "
   ]
  },
  {
   "cell_type": "markdown",
   "id": "98b45b5c",
   "metadata": {},
   "source": [
    "- Write a loop that uses print to create the output shown below\n"
   ]
  },
  {
   "cell_type": "code",
   "execution_count": 1,
   "id": "4377f69e",
   "metadata": {},
   "outputs": [
    {
     "data": {
      "text/plain": [
       "5"
      ]
     },
     "execution_count": 1,
     "metadata": {},
     "output_type": "execute_result"
    }
   ],
   "source": [
    "100\n",
    "95\n",
    "90\n",
    "85\n",
    "80\n",
    "75\n",
    "70\n",
    "65\n",
    "60\n",
    "55\n",
    "50\n",
    "45\n",
    "40\n",
    "35\n",
    "30\n",
    "25\n",
    "20\n",
    "15\n",
    "10\n",
    "5\n"
   ]
  },
  {
   "cell_type": "code",
   "execution_count": 33,
   "id": "e2cbfa21",
   "metadata": {},
   "outputs": [
    {
     "name": "stdout",
     "output_type": "stream",
     "text": [
      "100\n",
      "95\n",
      "90\n",
      "85\n",
      "80\n",
      "75\n",
      "70\n",
      "65\n",
      "60\n",
      "55\n",
      "50\n",
      "45\n",
      "40\n",
      "35\n",
      "30\n",
      "25\n",
      "20\n",
      "15\n",
      "10\n",
      "5\n"
     ]
    }
   ],
   "source": [
    "n = 100\n",
    "\n",
    "while n >= 5:\n",
    "    print(n)\n",
    "    n += -5"
   ]
  },
  {
   "cell_type": "markdown",
   "id": "af16c7ad",
   "metadata": {},
   "source": [
    "#### For Loops"
   ]
  },
  {
   "cell_type": "markdown",
   "id": "52689055",
   "metadata": {},
   "source": [
    "Write some code that prompts the user for a number, then shows a multiplication table up through 10 for that number."
   ]
  },
  {
   "cell_type": "code",
   "execution_count": 100,
   "id": "a1b06b81",
   "metadata": {
    "scrolled": true
   },
   "outputs": [
    {
     "name": "stdout",
     "output_type": "stream",
     "text": [
      "Enter a number: 3\n",
      "3 X 1 = 3\n",
      "3 X 2 = 6\n",
      "3 X 3 = 9\n",
      "3 X 4 = 12\n",
      "3 X 5 = 15\n",
      "3 X 6 = 18\n",
      "3 X 7 = 21\n",
      "3 X 8 = 24\n",
      "3 X 9 = 27\n",
      "3 X 10 = 30\n"
     ]
    }
   ],
   "source": [
    "num = input('Enter a number: ')\n",
    "        \n",
    "for n in range(1, 11):\n",
    "    print(str(num) + ' X ' + str(n), '=', int(num) * int(n))\n",
    "    \n",
    "        "
   ]
  },
  {
   "cell_type": "code",
   "execution_count": 24,
   "id": "3d4d434a",
   "metadata": {},
   "outputs": [
    {
     "name": "stdout",
     "output_type": "stream",
     "text": [
      "Input your number here: 7\n",
      "7 x 1 = 7\n",
      "7 x 2 = 14\n",
      "7 x 3 = 21\n",
      "7 x 4 = 28\n",
      "7 x 5 = 35\n",
      "7 x 6 = 42\n",
      "7 x 7 = 49\n",
      "7 x 8 = 56\n",
      "7 x 9 = 63\n",
      "7 x 10 = 70\n"
     ]
    }
   ],
   "source": [
    "your_num = int(input('Input your number here: '))\n",
    "\n",
    "for i in range(1, 11):\n",
    "    print(f'{your_num} x {i} = {your_num * i}')"
   ]
  },
  {
   "cell_type": "markdown",
   "id": "e3bd9960",
   "metadata": {},
   "source": [
    "Create a for loop that uses print to create the output shown below."
   ]
  },
  {
   "cell_type": "markdown",
   "id": "55054644",
   "metadata": {},
   "source": [
    "1\n",
    "\n",
    "22\n",
    "\n",
    "333\n",
    "\n",
    "4444\n",
    "\n",
    "55555\n",
    "\n",
    "666666\n",
    "\n",
    "7777777\n",
    "\n",
    "88888888\n",
    "\n",
    "999999999"
   ]
  },
  {
   "cell_type": "code",
   "execution_count": 92,
   "id": "cdccaa9d",
   "metadata": {},
   "outputs": [
    {
     "name": "stdout",
     "output_type": "stream",
     "text": [
      "1\n",
      "22\n",
      "333\n",
      "4444\n",
      "55555\n",
      "666666\n",
      "7777777\n",
      "88888888\n",
      "999999999\n"
     ]
    }
   ],
   "source": [
    "\n",
    "for n in range(1, 10):\n",
    "    print(str(n) * n)"
   ]
  },
  {
   "cell_type": "markdown",
   "id": "8d60ce79",
   "metadata": {},
   "source": [
    "#### Breaks and Continue"
   ]
  },
  {
   "cell_type": "markdown",
   "id": "a9fe045e",
   "metadata": {},
   "source": [
    "Write a program that prompts the user for a positive integer. Next write a loop that prints out the numbers from the number the user entered down to 1.\n",
    "\n",
    "The input function can be used to prompt for input and use that input in your python code. Prompt the user to enter a positive number and write a loop that counts from 0 to that number. (Hints: first make sure that the value the user entered is a valid number, also note that the input function returns a string, so you'll need to convert this to a numeric type.)\n",
    "\n",
    "Prompt the user for an odd number between 1 and 50. Use a loop and a break statement to continue prompting the user if they enter invalid input. (Hint: use the isdigit method on strings to determine this). Use a loop and the continue statement to output all the odd numbers between 1 and 50, except for the number the user entered."
   ]
  },
  {
   "cell_type": "code",
   "execution_count": 142,
   "id": "ab1ecebc",
   "metadata": {},
   "outputs": [
    {
     "name": "stdout",
     "output_type": "stream",
     "text": [
      "Type a positive number: 14\n",
      "14\n",
      "13\n",
      "12\n",
      "11\n",
      "10\n",
      "9\n",
      "8\n",
      "7\n",
      "6\n",
      "5\n",
      "4\n",
      "3\n",
      "2\n",
      "1\n"
     ]
    }
   ],
   "source": [
    "pos_in = int(input('Type a positive number: '))\n",
    "\n",
    "while pos_in >= 1:\n",
    "    print(pos_in)\n",
    "    pos_in += -1\n",
    "    "
   ]
  },
  {
   "cell_type": "code",
   "execution_count": 25,
   "id": "09c4c168",
   "metadata": {},
   "outputs": [
    {
     "name": "stdout",
     "output_type": "stream",
     "text": [
      "Type a positive number: 6\n",
      "0\n",
      "1\n",
      "2\n",
      "3\n",
      "4\n",
      "5\n"
     ]
    }
   ],
   "source": [
    "some_num = int(input('Type a positive number: '))\n",
    "num = 0\n",
    "\n",
    "while num < some_num:\n",
    "    print(num)\n",
    "    num += 1\n",
    "    if num >= some_num:\n",
    "        break"
   ]
  },
  {
   "cell_type": "code",
   "execution_count": 32,
   "id": "52eb3801",
   "metadata": {},
   "outputs": [
    {
     "name": "stdout",
     "output_type": "stream",
     "text": [
      "Input your number here: 51\n",
      "Invalid input. Try Again.\n",
      "Input your number here: 12\n",
      "Invalid input. Try Again.\n",
      "Input your number here: 13\n",
      "1\n",
      "3\n",
      "5\n",
      "7\n",
      "9\n",
      "11\n",
      "15\n",
      "17\n",
      "19\n",
      "21\n",
      "23\n",
      "25\n",
      "27\n",
      "29\n",
      "31\n",
      "33\n",
      "35\n",
      "37\n",
      "39\n",
      "41\n",
      "43\n",
      "45\n",
      "47\n",
      "49\n"
     ]
    }
   ],
   "source": [
    "while True:\n",
    "    your_num = input('Input your number here: ')\n",
    "    if your_num.isdigit() and int(your_num) % 2 == 1 and 1 < int(your_num) < 50:\n",
    "        break\n",
    "    else:\n",
    "        print('Invalid input. Try Again.')\n",
    "\n",
    "counter = 1\n",
    "\n",
    "while counter < 50:\n",
    "    if counter == int(your_num):\n",
    "        counter += 2\n",
    "    else:\n",
    "        print(counter)\n",
    "        counter += 2"
   ]
  },
  {
   "cell_type": "markdown",
   "id": "b4a5dc50",
   "metadata": {},
   "source": [
    "#### Fizzbuzz\n",
    "\n",
    "One of the most common interview questions for entry-level programmers is the FizzBuzz test. Developed by Imran Ghory, the test is designed to test basic looping and conditional logic skills.\n",
    "\n",
    "Write a program that prints the numbers from 1 to 100.\n",
    "For multiples of three print \"Fizz\" instead of the number\n",
    "For the multiples of five print \"Buzz\".\n",
    "For numbers which are multiples of both three and five print \"FizzBuzz\"."
   ]
  },
  {
   "cell_type": "code",
   "execution_count": 33,
   "id": "a4959b41",
   "metadata": {},
   "outputs": [
    {
     "name": "stdout",
     "output_type": "stream",
     "text": [
      "1\n",
      "2\n",
      "Fizz\n",
      "4\n",
      "Buzz\n",
      "Fizz\n",
      "7\n",
      "8\n",
      "Fizz\n",
      "Buzz\n",
      "11\n",
      "Fizz\n",
      "13\n",
      "14\n",
      "FizzBuzz\n",
      "16\n",
      "17\n",
      "Fizz\n",
      "19\n",
      "Buzz\n",
      "Fizz\n",
      "22\n",
      "23\n",
      "Fizz\n",
      "Buzz\n",
      "26\n",
      "Fizz\n",
      "28\n",
      "29\n",
      "FizzBuzz\n",
      "31\n",
      "32\n",
      "Fizz\n",
      "34\n",
      "Buzz\n",
      "Fizz\n",
      "37\n",
      "38\n",
      "Fizz\n",
      "Buzz\n",
      "41\n",
      "Fizz\n",
      "43\n",
      "44\n",
      "FizzBuzz\n",
      "46\n",
      "47\n",
      "Fizz\n",
      "49\n",
      "Buzz\n",
      "Fizz\n",
      "52\n",
      "53\n",
      "Fizz\n",
      "Buzz\n",
      "56\n",
      "Fizz\n",
      "58\n",
      "59\n",
      "FizzBuzz\n",
      "61\n",
      "62\n",
      "Fizz\n",
      "64\n",
      "Buzz\n",
      "Fizz\n",
      "67\n",
      "68\n",
      "Fizz\n",
      "Buzz\n",
      "71\n",
      "Fizz\n",
      "73\n",
      "74\n",
      "FizzBuzz\n",
      "76\n",
      "77\n",
      "Fizz\n",
      "79\n",
      "Buzz\n",
      "Fizz\n",
      "82\n",
      "83\n",
      "Fizz\n",
      "Buzz\n",
      "86\n",
      "Fizz\n",
      "88\n",
      "89\n",
      "FizzBuzz\n",
      "91\n",
      "92\n",
      "Fizz\n",
      "94\n",
      "Buzz\n",
      "Fizz\n",
      "97\n",
      "98\n",
      "Fizz\n",
      "Buzz\n"
     ]
    }
   ],
   "source": [
    "\n",
    "for n in range(1, 101):\n",
    "    if n % 15 == 0:\n",
    "        print('FizzBuzz')\n",
    "    elif n % 5 == 0:\n",
    "        print('Buzz')\n",
    "    elif n % 3 == 0:\n",
    "        print('Fizz')\n",
    "    else:\n",
    "        print(n)"
   ]
  },
  {
   "cell_type": "markdown",
   "id": "0b9dfe94",
   "metadata": {},
   "source": [
    "#### Display a table of powers.\n",
    "\n",
    "Prompt the user to enter an integer.\n",
    "Display a table of squares and cubes from 1 to the value entered.\n",
    "Ask if the user wants to continue.\n",
    "Assume that the user will enter valid data.\n",
    "Only continue if the user agrees to."
   ]
  },
  {
   "cell_type": "code",
   "execution_count": 28,
   "id": "410b4198",
   "metadata": {},
   "outputs": [
    {
     "name": "stdout",
     "output_type": "stream",
     "text": [
      "What number shall we go up to? 8\n",
      "Do you want to continue? (y/n) y\n",
      "  numbers    squared    cubed\n",
      "---------  ---------  -------\n",
      "        8         64      512\n"
     ]
    }
   ],
   "source": [
    "whole_n = int(input('What number shall we go up to? '))\n",
    "permission = input('Do you want to continue? (y/n) ')\n",
    "\n",
    "from tabulate import tabulate\n",
    "\n",
    "my_data = [\n",
    "           ['numbers', 'squared', 'cubed'],\n",
    "           [int(whole_n), int(whole_n) ** 2, int(whole_n) ** 3]\n",
    "           ]\n",
    "#for range(1, whole_n):\n",
    "    \n",
    "my_table = tabulate(my_data, headers='firstrow')\n",
    "\n",
    "if permission == 'y' or 'Y':\n",
    "    print(my_table)\n",
    "    "
   ]
  },
  {
   "cell_type": "code",
   "execution_count": 1,
   "id": "d4fc0e2a",
   "metadata": {},
   "outputs": [
    {
     "name": "stdout",
     "output_type": "stream",
     "text": [
      "Input your number here: 3\n",
      "number squared cubed\n",
      "----- | ----- | ------\n"
     ]
    },
    {
     "ename": "NameError",
     "evalue": "name 'your_num' is not defined",
     "output_type": "error",
     "traceback": [
      "\u001b[0;31m---------------------------------------------------------------------------\u001b[0m",
      "\u001b[0;31mNameError\u001b[0m                                 Traceback (most recent call last)",
      "Input \u001b[0;32mIn [1]\u001b[0m, in \u001b[0;36m<cell line: 8>\u001b[0;34m()\u001b[0m\n\u001b[1;32m      4\u001b[0m \u001b[38;5;28mprint\u001b[39m(\u001b[38;5;124m'\u001b[39m\u001b[38;5;124mnumber\u001b[39m\u001b[38;5;124m'\u001b[39m, \u001b[38;5;124m'\u001b[39m\u001b[38;5;124msquared\u001b[39m\u001b[38;5;124m'\u001b[39m, \u001b[38;5;124m'\u001b[39m\u001b[38;5;124mcubed\u001b[39m\u001b[38;5;124m'\u001b[39m)\n\u001b[1;32m      6\u001b[0m \u001b[38;5;28mprint\u001b[39m(\u001b[38;5;124m'\u001b[39m\u001b[38;5;124m----- | ----- | ------\u001b[39m\u001b[38;5;124m'\u001b[39m)\n\u001b[0;32m----> 8\u001b[0m \u001b[38;5;28;01mwhile\u001b[39;00m counter \u001b[38;5;241m<\u001b[39m\u001b[38;5;241m=\u001b[39m \u001b[43myour_num\u001b[49m:\n\u001b[1;32m      9\u001b[0m     \u001b[38;5;28mprint\u001b[39m(\u001b[38;5;124mf\u001b[39m\u001b[38;5;124m'\u001b[39m\u001b[38;5;132;01m{\u001b[39;00mcounter\u001b[38;5;132;01m}\u001b[39;00m\u001b[38;5;124m     |\u001b[39m\u001b[38;5;132;01m{\u001b[39;00mcounter\u001b[38;5;241m*\u001b[39m\u001b[38;5;241m*\u001b[39m\u001b[38;5;241m2\u001b[39m\u001b[38;5;132;01m}\u001b[39;00m\u001b[38;5;124m     |\u001b[39m\u001b[38;5;132;01m{\u001b[39;00mcounter \u001b[38;5;241m*\u001b[39m\u001b[38;5;241m*\u001b[39m \u001b[38;5;241m3\u001b[39m\u001b[38;5;132;01m}\u001b[39;00m\u001b[38;5;124m'\u001b[39m)\n\u001b[1;32m     11\u001b[0m     counter \u001b[38;5;241m+\u001b[39m\u001b[38;5;241m=\u001b[39m \u001b[38;5;241m1\u001b[39m\n",
      "\u001b[0;31mNameError\u001b[0m: name 'your_num' is not defined"
     ]
    }
   ],
   "source": [
    "you_num = int(input('Input your number here: '))\n",
    "\n",
    "counter = 1\n",
    "print('number', 'squared', 'cubed')\n",
    "\n",
    "print('----- | ----- | ------')\n",
    "\n",
    "while counter <= your_num:\n",
    "    print(f'{counter}     |{counter**2}     |{counter ** 3}')\n",
    "    \n",
    "    counter += 1"
   ]
  },
  {
   "cell_type": "markdown",
   "id": "d090129b",
   "metadata": {},
   "source": [
    "#### Convert given number grades into letter grades.\n",
    "\n",
    "Prompt the user for a numerical grade from 0 to 100.\n",
    "Display the corresponding letter grade.\n",
    "Prompt the user to continue.\n",
    "Assume that the user will enter valid integers for the grades.\n",
    "The application should only continue if the user agrees to.\n",
    "Grade Ranges:\n",
    "\n",
    "A : 100 - 88\n",
    "B : 87 - 80\n",
    "C : 79 - 67\n",
    "D : 66 - 60\n",
    "F : 59 - 0"
   ]
  },
  {
   "cell_type": "code",
   "execution_count": 1,
   "id": "cc7f84b8",
   "metadata": {},
   "outputs": [
    {
     "name": "stdout",
     "output_type": "stream",
     "text": [
      "Enter number grade here (1-100): 90\n",
      "A\n",
      "Continue? (y/n) y\n",
      "Enter number grade here (1-100): \n"
     ]
    },
    {
     "ename": "ValueError",
     "evalue": "invalid literal for int() with base 10: ''",
     "output_type": "error",
     "traceback": [
      "\u001b[0;31m---------------------------------------------------------------------------\u001b[0m",
      "\u001b[0;31mValueError\u001b[0m                                Traceback (most recent call last)",
      "Input \u001b[0;32mIn [1]\u001b[0m, in \u001b[0;36m<cell line: 7>\u001b[0;34m()\u001b[0m\n\u001b[1;32m      1\u001b[0m \u001b[38;5;66;03m#num_grade = int(input(\"Enter number grade here (1-100): \"))\u001b[39;00m\n\u001b[1;32m      2\u001b[0m \n\u001b[1;32m      3\u001b[0m \u001b[38;5;66;03m#cont = str(input('Continue? (y/n) '))\u001b[39;00m\n\u001b[1;32m      5\u001b[0m \u001b[38;5;28;01mwhile\u001b[39;00m \u001b[38;5;28;01mTrue\u001b[39;00m:\n\u001b[0;32m----> 7\u001b[0m     num_grade \u001b[38;5;241m=\u001b[39m \u001b[38;5;28;43mint\u001b[39;49m\u001b[43m(\u001b[49m\u001b[38;5;28;43minput\u001b[39;49m\u001b[43m(\u001b[49m\u001b[38;5;124;43m\"\u001b[39;49m\u001b[38;5;124;43mEnter number grade here (1-100): \u001b[39;49m\u001b[38;5;124;43m\"\u001b[39;49m\u001b[43m)\u001b[49m\u001b[43m)\u001b[49m\n\u001b[1;32m      9\u001b[0m     \u001b[38;5;28;01mif\u001b[39;00m num_grade \u001b[38;5;241m>\u001b[39m\u001b[38;5;241m=\u001b[39m \u001b[38;5;241m88\u001b[39m:\n\u001b[1;32m     10\u001b[0m         \u001b[38;5;28mprint\u001b[39m(\u001b[38;5;124m'\u001b[39m\u001b[38;5;124mA\u001b[39m\u001b[38;5;124m'\u001b[39m)\n",
      "\u001b[0;31mValueError\u001b[0m: invalid literal for int() with base 10: ''"
     ]
    }
   ],
   "source": [
    "#num_grade = int(input(\"Enter number grade here (1-100): \"))\n",
    "\n",
    "#cont = str(input('Continue? (y/n) '))\n",
    "\n",
    "while True:\n",
    "    \n",
    "    num_grade = int(input(\"Enter number grade here (1-100): \"))\n",
    "\n",
    "    if num_grade >= 88:\n",
    "        print('A')\n",
    "    elif num_grade >= 80:\n",
    "        print('B')\n",
    "    elif num_grade >= 67:\n",
    "        print('C')\n",
    "    elif num_grade >= 60:\n",
    "        print('D')\n",
    "    else:\n",
    "        print('F')\n",
    "    \n",
    "    cont = input('Continue? (y/n) ')\n",
    "    \n",
    "    if cont.lower().strip() == 'n':\n",
    "        break\n",
    "    \n"
   ]
  },
  {
   "cell_type": "markdown",
   "id": "37063be2",
   "metadata": {},
   "source": [
    "Create a list of dictionaries where each dictionary represents a book that you have read. Each dictionary in the list should have the keys title, author, and genre. Loop through the list and print out information about each book.\n",
    "\n",
    "Prompt the user to enter a genre, then loop through your books list and print out the titles of all the books in that genre."
   ]
  },
  {
   "cell_type": "code",
   "execution_count": 9,
   "id": "42ebd61a",
   "metadata": {},
   "outputs": [
    {
     "name": "stdout",
     "output_type": "stream",
     "text": [
      "Title: The Phantom Tollbooth.\n",
      "Author: Norton Juster.\n",
      "Genre: Fantasy.\n",
      "Title: The Name of the Wind.\n",
      "Author: Patrick Rothfuss.\n",
      "Genre: Fantasy.\n",
      "Title: Twilight.\n",
      "Author: Stephanie Meyer.\n",
      "Genre: Fiction.\n"
     ]
    }
   ],
   "source": [
    "books_read = [{'title': 'The Phantom Tollbooth', 'author': 'Norton Juster', 'genre': 'Fantasy'},\n",
    "              {'title': 'The Name of the Wind', 'author': 'Patrick Rothfuss', 'genre': 'Fantasy'},\n",
    "              {'title': 'Twilight', 'author': 'Stephanie Meyer', 'genre': 'Fiction'}]\n",
    "\n",
    "for book in books_read:\n",
    "    \n",
    "    print('Title: {}.'.format(book['title']))\n",
    "    \n",
    "    print('Author: {}.'.format(book['author']))\n",
    "    \n",
    "    print('Genre: {}.'.format(book['genre']))\n",
    "    \n",
    "    "
   ]
  },
  {
   "cell_type": "code",
   "execution_count": 5,
   "id": "a65fa6cc",
   "metadata": {},
   "outputs": [
    {
     "name": "stdout",
     "output_type": "stream",
     "text": [
      "Which genre interests you? Fiction\n",
      "['Twilight']\n"
     ]
    }
   ],
   "source": [
    "your_genre = input('Which genre interests you? ')\n",
    "\n",
    "interesting_books = []\n",
    "\n",
    "for book in books_read:\n",
    "    if book['genre'].strip().lower() == your_genre.strip().lower():\n",
    "        interesting_books.append(book['title'])\n",
    "        \n",
    "print(interesting_books)"
   ]
  },
  {
   "cell_type": "code",
   "execution_count": null,
   "id": "cff874a0",
   "metadata": {},
   "outputs": [],
   "source": []
  }
 ],
 "metadata": {
  "kernelspec": {
   "display_name": "Python 3 (ipykernel)",
   "language": "python",
   "name": "python3"
  },
  "language_info": {
   "codemirror_mode": {
    "name": "ipython",
    "version": 3
   },
   "file_extension": ".py",
   "mimetype": "text/x-python",
   "name": "python",
   "nbconvert_exporter": "python",
   "pygments_lexer": "ipython3",
   "version": "3.9.13"
  }
 },
 "nbformat": 4,
 "nbformat_minor": 5
}
