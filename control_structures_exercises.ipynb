{
 "cells": [
  {
   "cell_type": "markdown",
   "id": "9a00d952",
   "metadata": {},
   "source": [
    "# Control Structures Exercises"
   ]
  },
  {
   "cell_type": "markdown",
   "id": "5ae44a53",
   "metadata": {},
   "source": [
    "### Conditional Basics"
   ]
  },
  {
   "cell_type": "markdown",
   "id": "7feb740a",
   "metadata": {},
   "source": [
    "- Prompt the user for a day of the week, print out whether the day is Monday or not\n",
    "\n",
    "- Prompt the user for a day of the week, print out whether the day is a weekday or a weekend\n",
    "\n",
    "- Create variables and make up values for\n",
    "\n",
    "  - the number of hours worked in one week\n",
    "  \n",
    "  - the hourly rate\n",
    "  \n",
    "  - how much the week's paycheck will be\n",
    "  \n",
    "- write the python code that calculates the weekly paycheck. You get paid time and a half if you work more than 40 hours"
   ]
  },
  {
   "cell_type": "code",
   "execution_count": null,
   "id": "2f6dca75",
   "metadata": {},
   "outputs": [],
   "source": [
    "days_of_week = ['Monday', 'Tuesday', 'Wednesday', 'Thursday', 'Friday', 'Saturday', 'Sunday']\n",
    "\n",
    "for day in days_of_week:\n",
    "    if day == 'Monday':\n",
    "        print('Ugh, today is Monday.')\n",
    "    else:\n",
    "        print(\"Today isn't Monday!!\")\n",
    "    "
   ]
  },
  {
   "cell_type": "code",
   "execution_count": 9,
   "id": "3c2e8575",
   "metadata": {},
   "outputs": [
    {
     "name": "stdout",
     "output_type": "stream",
     "text": [
      "It's a weekday...\n",
      "It's a weekday...\n",
      "It's a weekday...\n",
      "It's a weekday...\n",
      "It's a weekday...\n",
      "It's the weekend, baby!\n",
      "It's the weekend, baby!\n"
     ]
    }
   ],
   "source": [
    "days_of_week = ['Monday', 'Tuesday', 'Wednesday', 'Thursday', 'Friday', 'Saturday', 'Sunday']\n",
    "\n",
    "for day in days_of_week:\n",
    "    if day == 'Saturday' or day == 'Sunday':\n",
    "        print(\"It's the weekend, baby!\")\n",
    "    else:\n",
    "        print(\"It's a weekday...\")\n",
    "        "
   ]
  },
  {
   "cell_type": "code",
   "execution_count": null,
   "id": "b52b7b98",
   "metadata": {},
   "outputs": [],
   "source": [
    "hours_worked = 29 \n",
    "hourly_rate = 37\n",
    "weeks_check = hours_worked * hourly_rate\n",
    "\n",
    "print(weeks_check)"
   ]
  },
  {
   "cell_type": "markdown",
   "id": "dcc2f774",
   "metadata": {},
   "source": [
    "### Loop Basics"
   ]
  },
  {
   "cell_type": "markdown",
   "id": "19f9b2dc",
   "metadata": {},
   "source": [
    "#### While Loops\n",
    "\n",
    "- Create an integer variable i with a value of 5.\n",
    "- Create a while loop that runs so long as i is less than or equal to 15\n",
    "- Each loop iteration, output the current value of i, then increment i by one.\n",
    "- Create a while loop that will count by 2's starting with 0 and ending at 100. Follow each number with a new line.\n",
    "- Alter your loop to count backwards by 5's from 100 to -10.\n",
    "- Create a while loop that starts at 2, and displays the number squared on each line while the number is less than 1,000,000."
   ]
  },
  {
   "cell_type": "code",
   "execution_count": 17,
   "id": "fe370925",
   "metadata": {},
   "outputs": [],
   "source": [
    "i = 5"
   ]
  },
  {
   "cell_type": "code",
   "execution_count": 15,
   "id": "6f4951ec",
   "metadata": {},
   "outputs": [
    {
     "name": "stdout",
     "output_type": "stream",
     "text": [
      "5\n",
      "6\n",
      "7\n",
      "8\n",
      "9\n",
      "10\n",
      "11\n",
      "12\n",
      "13\n",
      "14\n",
      "15\n"
     ]
    }
   ],
   "source": [
    "while i <= 15:\n",
    "    print(i)\n",
    "    i += 1"
   ]
  },
  {
   "cell_type": "code",
   "execution_count": null,
   "id": "cadd9134",
   "metadata": {},
   "outputs": [],
   "source": [
    "while i in range(101):\n",
    "    print(i)\n",
    "    i += 2"
   ]
  },
  {
   "cell_type": "code",
   "execution_count": null,
   "id": "21910618",
   "metadata": {},
   "outputs": [],
   "source": [
    "i = 100\n",
    "\n",
    "while i > -11:\n",
    "    print(i)\n",
    "    i += -5"
   ]
  },
  {
   "cell_type": "code",
   "execution_count": null,
   "id": "9af20908",
   "metadata": {},
   "outputs": [],
   "source": [
    "n = 2"
   ]
  },
  {
   "cell_type": "code",
   "execution_count": null,
   "id": "42d2171f",
   "metadata": {},
   "outputs": [],
   "source": [
    "n = 2\n",
    "\n",
    "while n > 1:\n",
    "    print(n)\n",
    "    if n > 1_000_000:\n",
    "        break\n",
    "    n = n ** 2\n",
    "    "
   ]
  },
  {
   "cell_type": "markdown",
   "id": "98b45b5c",
   "metadata": {},
   "source": [
    "- Write a loop that uses print to create the output shown below\n"
   ]
  },
  {
   "cell_type": "code",
   "execution_count": 1,
   "id": "4377f69e",
   "metadata": {},
   "outputs": [
    {
     "data": {
      "text/plain": [
       "5"
      ]
     },
     "execution_count": 1,
     "metadata": {},
     "output_type": "execute_result"
    }
   ],
   "source": [
    "100\n",
    "95\n",
    "90\n",
    "85\n",
    "80\n",
    "75\n",
    "70\n",
    "65\n",
    "60\n",
    "55\n",
    "50\n",
    "45\n",
    "40\n",
    "35\n",
    "30\n",
    "25\n",
    "20\n",
    "15\n",
    "10\n",
    "5\n"
   ]
  },
  {
   "cell_type": "code",
   "execution_count": null,
   "id": "e2cbfa21",
   "metadata": {},
   "outputs": [],
   "source": []
  },
  {
   "cell_type": "markdown",
   "id": "af16c7ad",
   "metadata": {},
   "source": [
    "#### For Loops"
   ]
  },
  {
   "cell_type": "code",
   "execution_count": null,
   "id": "f0747e3b",
   "metadata": {},
   "outputs": [],
   "source": []
  }
 ],
 "metadata": {
  "kernelspec": {
   "display_name": "Python 3 (ipykernel)",
   "language": "python",
   "name": "python3"
  },
  "language_info": {
   "codemirror_mode": {
    "name": "ipython",
    "version": 3
   },
   "file_extension": ".py",
   "mimetype": "text/x-python",
   "name": "python",
   "nbconvert_exporter": "python",
   "pygments_lexer": "ipython3",
   "version": "3.9.13"
  }
 },
 "nbformat": 4,
 "nbformat_minor": 5
}
