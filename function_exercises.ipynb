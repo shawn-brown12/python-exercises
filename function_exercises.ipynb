{
 "cells": [
  {
   "cell_type": "markdown",
   "id": "89bd1ea8",
   "metadata": {},
   "source": [
    "#### After creating each function specified below, write the necessary code in order to test your function.\n",
    "\n",
    "Define a function named is_two. It should accept one input and return True if the passed input is either the number or the string 2, False otherwise.\n"
   ]
  },
  {
   "cell_type": "code",
   "execution_count": 6,
   "id": "68dee2e3",
   "metadata": {},
   "outputs": [],
   "source": [
    "#this function is extremely simple, it simply returns true if a number is 2, and false otherwise\n",
    "def is_two(numb):\n",
    "    #this is how it determines if a number is 2\n",
    "    if numb == 2 or numb == '2':\n",
    "        \n",
    "        return True\n",
    "    \n",
    "    else:\n",
    "        \n",
    "        return False\n",
    "    \n",
    "is_two(2)\n"
   ]
  },
  {
   "cell_type": "markdown",
   "id": "86b630ea",
   "metadata": {},
   "source": [
    "Define a function named is_vowel. It should return True if the passed string is a vowel, False otherwise."
   ]
  },
  {
   "cell_type": "code",
   "execution_count": 127,
   "id": "c4af5274",
   "metadata": {},
   "outputs": [
    {
     "data": {
      "text/plain": [
       "True"
      ]
     },
     "execution_count": 127,
     "metadata": {},
     "output_type": "execute_result"
    }
   ],
   "source": [
    "#This function determines whether or not a letter is a vowel\n",
    "def is_vowel(n):\n",
    "#using an if/else statement to return true if a letter is a vowel, and false otherwise    \n",
    "    if n.lower() in 'aeiou':\n",
    "        \n",
    "        return True\n",
    "    \n",
    "    else:\n",
    "        \n",
    "        return False\n",
    "    \n",
    "is_vowel('A')\n"
   ]
  },
  {
   "cell_type": "markdown",
   "id": "097963fe",
   "metadata": {},
   "source": [
    "Define a function named is_consonant. It should return True if the passed string is a consonant, False otherwise. Use your is_vowel function to accomplish this."
   ]
  },
  {
   "cell_type": "code",
   "execution_count": 8,
   "id": "90fb32eb",
   "metadata": {},
   "outputs": [],
   "source": [
    "#same as above, but this function is calling the vowel function, and if it returns true, \n",
    "#this function returns false\n",
    "def is_consonant(letter):\n",
    "#using an if/else statement to run the vowel function and determine if its true or false    \n",
    "    if is_vowel(letter) is True:\n",
    "        \n",
    "        return False\n",
    "    \n",
    "    else:\n",
    "    \n",
    "        return True\n",
    "\n",
    "is_consonant('m')\n"
   ]
  },
  {
   "cell_type": "markdown",
   "id": "d439ba2a",
   "metadata": {},
   "source": [
    "Define a function that accepts a string that is a word. The function should capitalize the first letter of the word if the word starts with a consonant."
   ]
  },
  {
   "cell_type": "code",
   "execution_count": 73,
   "id": "ac7be040",
   "metadata": {},
   "outputs": [
    {
     "name": "stdout",
     "output_type": "stream",
     "text": [
      "Enter word here: oval\n",
      "Word starts with vowel\n"
     ]
    }
   ],
   "source": [
    "#function to capitalize the first letter of a word if the word starts with a consonant\n",
    "def str_as_word(s):\n",
    "#creating input to get our word    \n",
    "    s = input('Enter word here: ')\n",
    "#slicing the first index of the string and lowercasing to compare to our vowels    \n",
    "    if s[0].lower() in ('a', 'e', 'i', 'o', 'u'):\n",
    "        #if letter is a vowel, prints a statement\n",
    "        print('Word starts with vowel')\n",
    "#if our letter is not a vowel, it returns the word with the first letter capitalized\n",
    "    else:\n",
    "        \n",
    "        return s.capitalize()\n",
    "    \n",
    "str_as_word('s')   "
   ]
  },
  {
   "cell_type": "markdown",
   "id": "bb282cec",
   "metadata": {},
   "source": [
    "Define a function named calculate_tip. It should accept a tip percentage (a number between 0 and 1) and the bill total, and return the amount to tip."
   ]
  },
  {
   "cell_type": "code",
   "execution_count": 39,
   "id": "c59d65a1",
   "metadata": {},
   "outputs": [],
   "source": [
    "#simple function that intakes a total and desired tip percentage to output your total with tip\n",
    "def calculate_tip():\n",
    "#getting our total via input    \n",
    "    before_tip = float(input('Enter your total here ($$.cc): '))\n",
    "#getting our desired tip percentage    \n",
    "    tip = float(input('Enter desired tip amount (in decimal format): '))\n",
    "#caluculating what our tip and total before tip adds up to    \n",
    "    total = before_tip + (before_tip * tip)\n",
    "#returning total with tip, rounded so it is comparable to a dollar/cent value    \n",
    "    return round(total, 2)\n",
    "\n",
    "calculate_tip()"
   ]
  },
  {
   "cell_type": "markdown",
   "id": "d8baa1ed",
   "metadata": {},
   "source": [
    "Define a function named apply_discount. It should accept a original price, and a discount percentage, and return the price after the discount is applied."
   ]
  },
  {
   "cell_type": "code",
   "execution_count": 42,
   "id": "b8ac869d",
   "metadata": {},
   "outputs": [],
   "source": [
    "#function to determine a total cost after a discount\n",
    "def apply_discount():\n",
    "#input to get our original price as as float    \n",
    "    original_price = float(input('Enter full price here ($$.cc): '))\n",
    "#input to get what our discount is as a float    \n",
    "    discount = float(input('Enter discount (in decimal format): '))\n",
    "#caluclating end total price by adding the original price to the discount multiplied by the original price    \n",
    "    price_after_discount = original_price - (original_price * discount)\n",
    "#returns our end price rounded so it is comparable to a dollar/cent value    \n",
    "    return round(price_after_discount, 2)\n",
    "\n",
    "apply_discount()\n"
   ]
  },
  {
   "cell_type": "markdown",
   "id": "8270c471",
   "metadata": {},
   "source": [
    "Define a function named handle_commas. It should accept a string that is a number that contains commas in it as input, and return a number as output."
   ]
  },
  {
   "cell_type": "code",
   "execution_count": 50,
   "id": "b877a2e5",
   "metadata": {},
   "outputs": [
    {
     "name": "stdout",
     "output_type": "stream",
     "text": [
      "Enter numbers here: 21,33,2252,3\n"
     ]
    },
    {
     "data": {
      "text/plain": [
       "'213322523'"
      ]
     },
     "execution_count": 50,
     "metadata": {},
     "output_type": "execute_result"
    }
   ],
   "source": [
    "#function to remove commas in a string\n",
    "def handle_commas():\n",
    "#input to get our string    \n",
    "    num = input('Enter numbers here: ')\n",
    "#returns our string, replacing all commas with nothing, thus erasing them    \n",
    "    return num.replace(',', '')\n",
    "\n",
    "handle_commas()\n"
   ]
  },
  {
   "cell_type": "markdown",
   "id": "996c0316",
   "metadata": {},
   "source": [
    "Define a function named get_letter_grade. It should accept a number and return the letter grade associated with that number (A-F)."
   ]
  },
  {
   "cell_type": "code",
   "execution_count": 3,
   "id": "e4ca7eb5",
   "metadata": {},
   "outputs": [
    {
     "name": "stdout",
     "output_type": "stream",
     "text": [
      "Enter whole number grade here (1-100): 87\n",
      "B\n"
     ]
    }
   ],
   "source": [
    "#function to get a number grade and converting it into a letter grade\n",
    "def get_letter_grade(x):\n",
    "#input to get our number grade    \n",
    "    #num_grade = int(input('Enter whole number grade here (1-100): '))\n",
    "#starting with the highest values and moving down, using an if/elif/else statement to filter out each grade and\n",
    "#printing what our letter grade would be\n",
    "    if x >= 90:\n",
    "        \n",
    "        print('A')\n",
    "        \n",
    "    elif x >= 80:\n",
    "        \n",
    "        print('B')\n",
    "        \n",
    "    elif x >= 70:\n",
    "        \n",
    "        print('C')\n",
    "        \n",
    "    elif num_grade >= 60:\n",
    "        \n",
    "        print('D')\n",
    "        \n",
    "    else:\n",
    "        \n",
    "        print('F')\n",
    "        \n",
    "get_letter_grade(87)\n",
    "\n"
   ]
  },
  {
   "cell_type": "markdown",
   "id": "030a10e3",
   "metadata": {},
   "source": [
    "Define a function named remove_vowels that accepts a string and returns a string with all the vowels removed."
   ]
  },
  {
   "cell_type": "code",
   "execution_count": 124,
   "id": "2a6d3cc7",
   "metadata": {},
   "outputs": [
    {
     "name": "stdout",
     "output_type": "stream",
     "text": [
      "Enter word or phrase here: \n"
     ]
    },
    {
     "data": {
      "text/plain": [
       "''"
      ]
     },
     "execution_count": 124,
     "metadata": {},
     "output_type": "execute_result"
    }
   ],
   "source": [
    "#function to remove vowels from a string\n",
    "def remove_vowels():\n",
    "#input to get our string    \n",
    "    s = input('Enter word or phrase here: ')\n",
    "#replace statements to replace all vowels with nothing, which essentially erases them    \n",
    "    return s.replace('a','').replace('e','').replace('i','').replace('o','').replace('u','')\n",
    "\n",
    "remove_vowels()"
   ]
  },
  {
   "cell_type": "markdown",
   "id": "755abfc4",
   "metadata": {},
   "source": [
    "Define a function named normalize_name. It should accept a string and return a valid python identifier, that is:\n",
    "- anything that is not a valid python identifier should be removed\n",
    "- leading and trailing whitespace should be removed\n",
    "- everything should be lowercase\n",
    "- spaces should be replaced with underscores\n",
    "\n",
    "For example:\n",
    "- Name will become name\n",
    "- First Name will become first_name\n",
    "- % Completed will become completed"
   ]
  },
  {
   "cell_type": "code",
   "execution_count": 66,
   "id": "1bf9ae90",
   "metadata": {},
   "outputs": [
    {
     "name": "stdout",
     "output_type": "stream",
     "text": [
      "Enter word or phrase here: Hi there !@#\n"
     ]
    },
    {
     "data": {
      "text/plain": [
       "'hi_there_'"
      ]
     },
     "execution_count": 66,
     "metadata": {},
     "output_type": "execute_result"
    }
   ],
   "source": [
    "#function to standardize a name, by removing capitalizations, trailing and leading white space, \n",
    "#replacing spaces in between with underscores, and removing python identifiers\n",
    "def normalize_name():\n",
    "#input to get our name    \n",
    "    s = input('Enter name here: ')\n",
    "#return statement to lowercase and strip our names of whie spaces, replacing spaces in between with underscores,\n",
    "#and replacing various non letter characters with nothing\n",
    "    return s.lower().strip().replace(' ','_').replace('!','').replace('@','').replace('#','').replace('$','').replace('%','').replace('^','').replace('&','').replace('*','').replace(\"(\",\"\").replace(\")\",\"\")\n",
    "\n",
    "normalize_name()\n"
   ]
  },
  {
   "cell_type": "markdown",
   "id": "4b0efbec",
   "metadata": {},
   "source": [
    "Write a function named cumulative_sum that accepts a list of numbers and returns a list that is the cumulative sum of the numbers in the list.\n",
    "\n",
    "- cumulative_sum([1, 1, 1]) returns [1, 2, 3]\n",
    "- cumulative_sum([1, 2, 3, 4]) returns [1, 3, 6, 10]"
   ]
  },
  {
   "cell_type": "code",
   "execution_count": 123,
   "id": "db7d2fd5",
   "metadata": {},
   "outputs": [
    {
     "name": "stdout",
     "output_type": "stream",
     "text": [
      "Enter your numbers separated by a space: 12 12 12\n"
     ]
    },
    {
     "data": {
      "text/plain": [
       "36"
      ]
     },
     "execution_count": 123,
     "metadata": {},
     "output_type": "execute_result"
    }
   ],
   "source": [
    "#function to create a list from an input, convert it to list of integers, and add eat integer together\n",
    "def cumulative_sum():\n",
    "#input to get our numbers    \n",
    "    input_list = input('Enter your numbers separated by a space: ')\n",
    "    \n",
    "    #print(input_list)\n",
    "#converting the input string into a list of strings   \n",
    "    func_list = input_list.split()\n",
    "    \n",
    "    #print(func_list)\n",
    "#turning the list of strings into a list of integers   \n",
    "    func_list = list(map(int, func_list))\n",
    "    \n",
    "    return sum(func_list)\n",
    "\n",
    "cumulative_sum()\n"
   ]
  }
 ],
 "metadata": {
  "kernelspec": {
   "display_name": "Python 3 (ipykernel)",
   "language": "python",
   "name": "python3"
  },
  "language_info": {
   "codemirror_mode": {
    "name": "ipython",
    "version": 3
   },
   "file_extension": ".py",
   "mimetype": "text/x-python",
   "name": "python",
   "nbconvert_exporter": "python",
   "pygments_lexer": "ipython3",
   "version": "3.9.13"
  }
 },
 "nbformat": 4,
 "nbformat_minor": 5
}
