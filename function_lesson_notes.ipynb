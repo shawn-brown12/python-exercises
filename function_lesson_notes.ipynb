{
 "cells": [
  {
   "cell_type": "code",
   "execution_count": 15,
   "id": "90f9d0c4",
   "metadata": {},
   "outputs": [],
   "source": [
    "num_list = [3, 5, 23, 64, 9]"
   ]
  },
  {
   "cell_type": "code",
   "execution_count": 16,
   "id": "1fd8301b",
   "metadata": {},
   "outputs": [
    {
     "data": {
      "text/plain": [
       "64"
      ]
     },
     "execution_count": 16,
     "metadata": {},
     "output_type": "execute_result"
    }
   ],
   "source": [
    "max(num_list)"
   ]
  },
  {
   "cell_type": "code",
   "execution_count": 17,
   "id": "8ba16c09",
   "metadata": {
    "scrolled": true
   },
   "outputs": [
    {
     "ename": "TypeError",
     "evalue": "max expected at least 1 argument, got 0",
     "output_type": "error",
     "traceback": [
      "\u001b[0;31m---------------------------------------------------------------------------\u001b[0m",
      "\u001b[0;31mTypeError\u001b[0m                                 Traceback (most recent call last)",
      "Input \u001b[0;32mIn [17]\u001b[0m, in \u001b[0;36m<cell line: 1>\u001b[0;34m()\u001b[0m\n\u001b[0;32m----> 1\u001b[0m \u001b[38;5;28;43mmax\u001b[39;49m\u001b[43m(\u001b[49m\u001b[43m)\u001b[49m\n",
      "\u001b[0;31mTypeError\u001b[0m: max expected at least 1 argument, got 0"
     ]
    }
   ],
   "source": [
    "max()"
   ]
  },
  {
   "cell_type": "code",
   "execution_count": 26,
   "id": "1ea2badc",
   "metadata": {},
   "outputs": [],
   "source": [
    "def max_sq(my_list):\n",
    "    return max(my_list) ** 2\n",
    "    "
   ]
  },
  {
   "cell_type": "code",
   "execution_count": 29,
   "id": "5317524f",
   "metadata": {},
   "outputs": [
    {
     "data": {
      "text/plain": [
       "4096"
      ]
     },
     "execution_count": 29,
     "metadata": {},
     "output_type": "execute_result"
    }
   ],
   "source": [
    "max_sq(num_list)"
   ]
  },
  {
   "cell_type": "code",
   "execution_count": 27,
   "id": "aa08ca11",
   "metadata": {},
   "outputs": [],
   "source": [
    "my_number = max_sq(num_list)"
   ]
  },
  {
   "cell_type": "code",
   "execution_count": 28,
   "id": "24f11887",
   "metadata": {},
   "outputs": [
    {
     "data": {
      "text/plain": [
       "4096"
      ]
     },
     "execution_count": 28,
     "metadata": {},
     "output_type": "execute_result"
    }
   ],
   "source": [
    "my_number\n"
   ]
  },
  {
   "cell_type": "code",
   "execution_count": 35,
   "id": "ccabf41f",
   "metadata": {},
   "outputs": [],
   "source": [
    "def max_cube(my_list):\n",
    "    print(max(my_list) ** 3)\n",
    "    return max(my_list) ** 3, 'cube'"
   ]
  },
  {
   "cell_type": "code",
   "execution_count": 36,
   "id": "a03a12ca",
   "metadata": {},
   "outputs": [
    {
     "name": "stdout",
     "output_type": "stream",
     "text": [
      "262144\n"
     ]
    },
    {
     "data": {
      "text/plain": [
       "(262144, 'cube')"
      ]
     },
     "execution_count": 36,
     "metadata": {},
     "output_type": "execute_result"
    }
   ],
   "source": [
    "max_cube(num_list)"
   ]
  },
  {
   "cell_type": "code",
   "execution_count": 40,
   "id": "10fedaec",
   "metadata": {},
   "outputs": [
    {
     "name": "stdout",
     "output_type": "stream",
     "text": [
      "262144\n"
     ]
    }
   ],
   "source": [
    "my_output = max_cube(num_list)"
   ]
  },
  {
   "cell_type": "code",
   "execution_count": 41,
   "id": "bdf3fc94",
   "metadata": {},
   "outputs": [
    {
     "data": {
      "text/plain": [
       "(262144, 'cube')"
      ]
     },
     "execution_count": 41,
     "metadata": {},
     "output_type": "execute_result"
    }
   ],
   "source": [
    "my_output"
   ]
  },
  {
   "cell_type": "code",
   "execution_count": 38,
   "id": "30a6d409",
   "metadata": {},
   "outputs": [
    {
     "name": "stdout",
     "output_type": "stream",
     "text": [
      "262144\n"
     ]
    }
   ],
   "source": [
    "number, word = max_cube(num_list)"
   ]
  },
  {
   "cell_type": "code",
   "execution_count": 39,
   "id": "fa21ffb5",
   "metadata": {},
   "outputs": [
    {
     "data": {
      "text/plain": [
       "'cube'"
      ]
     },
     "execution_count": 39,
     "metadata": {},
     "output_type": "execute_result"
    }
   ],
   "source": [
    "word"
   ]
  },
  {
   "cell_type": "code",
   "execution_count": 42,
   "id": "87b96449",
   "metadata": {},
   "outputs": [],
   "source": [
    "def list_comparer(list_a, list_b):\n",
    "    if max(list_a) > max(list_b):\n",
    "        print(f'{list_a} is the grand champion!!!')\n",
    "    else:\n",
    "        print(f'{list_b} rules the galaxy!')\n",
    "        "
   ]
  },
  {
   "cell_type": "code",
   "execution_count": 43,
   "id": "9a6a15ac",
   "metadata": {},
   "outputs": [
    {
     "data": {
      "text/plain": [
       "[3, 5, 23, 64, 9]"
      ]
     },
     "execution_count": 43,
     "metadata": {},
     "output_type": "execute_result"
    }
   ],
   "source": [
    "num_list"
   ]
  },
  {
   "cell_type": "code",
   "execution_count": 45,
   "id": "007f1108",
   "metadata": {},
   "outputs": [],
   "source": [
    "super_num_list = [12, 33, 21, 54, 420, 4]"
   ]
  },
  {
   "cell_type": "code",
   "execution_count": 46,
   "id": "97668447",
   "metadata": {},
   "outputs": [
    {
     "name": "stdout",
     "output_type": "stream",
     "text": [
      "[12, 33, 21, 54, 420, 4] rules the galaxy!\n"
     ]
    }
   ],
   "source": [
    "list_comparer(num_list, super_num_list)"
   ]
  },
  {
   "cell_type": "code",
   "execution_count": 47,
   "id": "97da6ee6",
   "metadata": {},
   "outputs": [
    {
     "name": "stdout",
     "output_type": "stream",
     "text": [
      "[12, 33, 21, 54, 420, 4] is the grand champion!!!\n"
     ]
    }
   ],
   "source": [
    "list_comparer(list_a = super_num_list, list_b = num_list)"
   ]
  },
  {
   "cell_type": "code",
   "execution_count": 61,
   "id": "28fe6072",
   "metadata": {},
   "outputs": [],
   "source": [
    "#Convert between inches and centimeters\n",
    "\n",
    "def converter(meas, metric=1):\n",
    "    if metric:\n",
    "        num_inches = meas / 2.54\n",
    "        return num_inches\n",
    "    else:\n",
    "        num_cms = meas * 2.54\n",
    "        return num_cms"
   ]
  },
  {
   "cell_type": "code",
   "execution_count": 62,
   "id": "d3ba3cd7",
   "metadata": {},
   "outputs": [
    {
     "data": {
      "text/plain": [
       "47.24409448818898"
      ]
     },
     "execution_count": 62,
     "metadata": {},
     "output_type": "execute_result"
    }
   ],
   "source": [
    "converter(120, metric=True)"
   ]
  },
  {
   "cell_type": "code",
   "execution_count": 63,
   "id": "bc1ad993",
   "metadata": {},
   "outputs": [
    {
     "data": {
      "text/plain": [
       "47.24409448818898"
      ]
     },
     "execution_count": 63,
     "metadata": {},
     "output_type": "execute_result"
    }
   ],
   "source": [
    "converter(120)"
   ]
  },
  {
   "cell_type": "code",
   "execution_count": 64,
   "id": "e738ebb7",
   "metadata": {},
   "outputs": [
    {
     "data": {
      "text/plain": [
       "119.38"
      ]
     },
     "execution_count": 64,
     "metadata": {},
     "output_type": "execute_result"
    }
   ],
   "source": [
    "converter(47, metric=False)"
   ]
  },
  {
   "cell_type": "code",
   "execution_count": 65,
   "id": "2198701c",
   "metadata": {},
   "outputs": [
    {
     "data": {
      "text/plain": [
       "[3, 5, 23, 64, 9]"
      ]
     },
     "execution_count": 65,
     "metadata": {},
     "output_type": "execute_result"
    }
   ],
   "source": [
    "num_list"
   ]
  },
  {
   "cell_type": "code",
   "execution_count": 66,
   "id": "b55a99e9",
   "metadata": {},
   "outputs": [],
   "source": [
    "def min_finder(my_list):\n",
    "    return min(num_list)"
   ]
  },
  {
   "cell_type": "code",
   "execution_count": 67,
   "id": "df102479",
   "metadata": {},
   "outputs": [],
   "source": [
    "dummy_list = [2, 2, 2, 4, 7]"
   ]
  },
  {
   "cell_type": "code",
   "execution_count": 76,
   "id": "07fd6d7b",
   "metadata": {},
   "outputs": [
    {
     "data": {
      "text/plain": [
       "2"
      ]
     },
     "execution_count": 76,
     "metadata": {},
     "output_type": "execute_result"
    }
   ],
   "source": [
    "min_finder(dummy_list)"
   ]
  },
  {
   "cell_type": "code",
   "execution_count": 69,
   "id": "6589f4e5",
   "metadata": {},
   "outputs": [],
   "source": [
    "def min_finder(my_list):\n",
    "    return min(my_list)"
   ]
  },
  {
   "cell_type": "code",
   "execution_count": 75,
   "id": "37176d08",
   "metadata": {},
   "outputs": [],
   "source": [
    "def min_finder(my_list):\n",
    "    x = min(my_list)\n",
    "    return x"
   ]
  },
  {
   "cell_type": "code",
   "execution_count": 77,
   "id": "c8507f56",
   "metadata": {},
   "outputs": [],
   "source": [
    "x = min_finder(dummy_list)"
   ]
  },
  {
   "cell_type": "code",
   "execution_count": 78,
   "id": "b5f22e56",
   "metadata": {},
   "outputs": [
    {
     "data": {
      "text/plain": [
       "2"
      ]
     },
     "execution_count": 78,
     "metadata": {},
     "output_type": "execute_result"
    }
   ],
   "source": [
    "x"
   ]
  },
  {
   "cell_type": "code",
   "execution_count": null,
   "id": "83f213b2",
   "metadata": {},
   "outputs": [],
   "source": []
  }
 ],
 "metadata": {
  "kernelspec": {
   "display_name": "Python 3 (ipykernel)",
   "language": "python",
   "name": "python3"
  },
  "language_info": {
   "codemirror_mode": {
    "name": "ipython",
    "version": 3
   },
   "file_extension": ".py",
   "mimetype": "text/x-python",
   "name": "python",
   "nbconvert_exporter": "python",
   "pygments_lexer": "ipython3",
   "version": "3.9.13"
  }
 },
 "nbformat": 4,
 "nbformat_minor": 5
}
