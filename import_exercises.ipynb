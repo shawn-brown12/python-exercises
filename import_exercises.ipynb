{
 "cells": [
  {
   "cell_type": "code",
   "execution_count": 1,
   "id": "b4191c29",
   "metadata": {},
   "outputs": [],
   "source": [
    "import functions_import as fi"
   ]
  },
  {
   "cell_type": "markdown",
   "id": "579ad347",
   "metadata": {},
   "source": [
    "Run an interactive python session and import the module. Call the is_vowel function using the . syntax."
   ]
  },
  {
   "cell_type": "code",
   "execution_count": 2,
   "id": "64d330ca",
   "metadata": {},
   "outputs": [
    {
     "data": {
      "text/plain": [
       "False"
      ]
     },
     "execution_count": 2,
     "metadata": {},
     "output_type": "execute_result"
    }
   ],
   "source": [
    "fi.is_vowel('c')"
   ]
  },
  {
   "cell_type": "markdown",
   "id": "de311be0",
   "metadata": {},
   "source": [
    "Create a jupyter notebook named import_exercises.ipynb. Use from to import the get_letter_grade function and give it an alias. Test this function in your notebook.\n"
   ]
  },
  {
   "cell_type": "code",
   "execution_count": 8,
   "id": "3c5bb6b4",
   "metadata": {},
   "outputs": [],
   "source": [
    "from functions_import import get_letter_grade as glg"
   ]
  },
  {
   "cell_type": "code",
   "execution_count": 9,
   "id": "4a3c25b1",
   "metadata": {},
   "outputs": [
    {
     "ename": "NameError",
     "evalue": "name 'get_letter_grade' is not defined",
     "output_type": "error",
     "traceback": [
      "\u001b[0;31m---------------------------------------------------------------------------\u001b[0m",
      "\u001b[0;31mNameError\u001b[0m                                 Traceback (most recent call last)",
      "Input \u001b[0;32mIn [9]\u001b[0m, in \u001b[0;36m<cell line: 1>\u001b[0;34m()\u001b[0m\n\u001b[0;32m----> 1\u001b[0m \u001b[43mget_letter_grade\u001b[49m(\u001b[38;5;241m87\u001b[39m)\n",
      "\u001b[0;31mNameError\u001b[0m: name 'get_letter_grade' is not defined"
     ]
    }
   ],
   "source": [
    "get_letter_grade(87)"
   ]
  },
  {
   "cell_type": "code",
   "execution_count": null,
   "id": "32f7c9f5",
   "metadata": {},
   "outputs": [],
   "source": []
  }
 ],
 "metadata": {
  "kernelspec": {
   "display_name": "Python 3 (ipykernel)",
   "language": "python",
   "name": "python3"
  },
  "language_info": {
   "codemirror_mode": {
    "name": "ipython",
    "version": 3
   },
   "file_extension": ".py",
   "mimetype": "text/x-python",
   "name": "python",
   "nbconvert_exporter": "python",
   "pygments_lexer": "ipython3",
   "version": "3.9.13"
  }
 },
 "nbformat": 4,
 "nbformat_minor": 5
}
