{
 "cells": [
  {
   "cell_type": "markdown",
   "id": "00f68656",
   "metadata": {},
   "source": [
    "# Control Structures"
   ]
  },
  {
   "cell_type": "markdown",
   "id": "e1b4fe50",
   "metadata": {},
   "source": [
    "## Conditionals\n",
    "\n",
    "### Allows us to execute code conditionally"
   ]
  },
  {
   "cell_type": "markdown",
   "id": "8d8da8bd",
   "metadata": {},
   "source": [
    "#### Basic If statement"
   ]
  },
  {
   "cell_type": "code",
   "execution_count": 1,
   "id": "26783ad4",
   "metadata": {},
   "outputs": [
    {
     "name": "stdout",
     "output_type": "stream",
     "text": [
      "I like coffee!\n",
      "Coffee is the best!\n"
     ]
    }
   ],
   "source": [
    "i_like_coffee = True\n",
    "\n",
    "if i_like_coffee:\n",
    "    print('I like coffee!')\n",
    "    print('Coffee is the best!')\n"
   ]
  },
  {
   "cell_type": "markdown",
   "id": "daa7cb32",
   "metadata": {},
   "source": [
    "#### Basic If/else statement"
   ]
  },
  {
   "cell_type": "code",
   "execution_count": 2,
   "id": "90958ea3",
   "metadata": {},
   "outputs": [
    {
     "name": "stdout",
     "output_type": "stream",
     "text": [
      "Looks like a nice, sunny day!\n"
     ]
    }
   ],
   "source": [
    "it_is_raining = False\n",
    "\n",
    "if it_is_raining:\n",
    "    print('Better bring an umbrella!')\n",
    "else:\n",
    "    print('Looks like a nice, sunny day!')\n"
   ]
  },
  {
   "cell_type": "markdown",
   "id": "216df1c9",
   "metadata": {},
   "source": [
    "#### Basic If/else if/else statement"
   ]
  },
  {
   "cell_type": "code",
   "execution_count": 5,
   "id": "bcb6247d",
   "metadata": {},
   "outputs": [
    {
     "name": "stdout",
     "output_type": "stream",
     "text": [
      "Middle of the road, huh?\n"
     ]
    }
   ],
   "source": [
    "coffee_preference = 'medium'\n",
    "\n",
    "if coffee_preference == 'dark':\n",
    "    print('I love a good dark roast!')\n",
    "elif coffee_preference == 'medium':\n",
    "    print('Middle of the road, huh?')\n",
    "elif coffee_preference == 'light':\n",
    "    print('Light roast has the most caffeine!')\n",
    "else:\n",
    "    print('How about some tea then?')\n"
   ]
  },
  {
   "cell_type": "markdown",
   "id": "560b4a23",
   "metadata": {},
   "source": [
    "## Loops"
   ]
  },
  {
   "cell_type": "markdown",
   "id": "da48e463",
   "metadata": {},
   "source": [
    "### Allows us to execute code repeatedly"
   ]
  },
  {
   "cell_type": "markdown",
   "id": "cb70d54d",
   "metadata": {},
   "source": [
    "#### For Loops"
   ]
  },
  {
   "cell_type": "markdown",
   "id": "c663e71d",
   "metadata": {},
   "source": [
    "By far, the for loop is much more common in python code (this is not necessarily the case in other programming languages), but both are important.\n",
    "\n",
    "\n",
    "The for loop is commonly used with iterables, objects that can be enumerated, for examples, lists or strings."
   ]
  },
  {
   "cell_type": "code",
   "execution_count": 6,
   "id": "2cd80823",
   "metadata": {},
   "outputs": [
    {
     "name": "stdout",
     "output_type": "stream",
     "text": [
      "1\n",
      "2\n",
      "3\n"
     ]
    }
   ],
   "source": [
    "for number in range(1, 4):\n",
    "    print(number)\n"
   ]
  },
  {
   "cell_type": "code",
   "execution_count": 7,
   "id": "7c2990f6",
   "metadata": {},
   "outputs": [
    {
     "name": "stdout",
     "output_type": "stream",
     "text": [
      "bash is a nice programming language\n",
      "python is a nice programming language\n",
      "R is a nice programming language\n",
      "clojure is a nice programming language\n"
     ]
    }
   ],
   "source": [
    "languages = ['bash', 'python', 'R', 'clojure']\n",
    "\n",
    "for programming_language in languages:\n",
    "    print(f'{programming_language} is a nice programming language')\n"
   ]
  },
  {
   "cell_type": "markdown",
   "id": "c9a7cd3c",
   "metadata": {},
   "source": [
    "#### While Loops"
   ]
  },
  {
   "cell_type": "markdown",
   "id": "dfedc95c",
   "metadata": {},
   "source": [
    "The while loop will execute it's body until the condition evaluates to false. Usually this means that the code in the loop condition is being modified somewhere in the loop body.\n"
   ]
  },
  {
   "cell_type": "code",
   "execution_count": 10,
   "id": "aa7d3724",
   "metadata": {},
   "outputs": [
    {
     "name": "stdout",
     "output_type": "stream",
     "text": [
      "5\n",
      "6\n",
      "7\n",
      "8\n",
      "9\n",
      "10\n"
     ]
    }
   ],
   "source": [
    "i = 5\n",
    "while i <= 10:\n",
    "    print(i)\n",
    "    i += 1\n"
   ]
  },
  {
   "cell_type": "markdown",
   "id": "eb07d3da",
   "metadata": {},
   "source": [
    "#### Breaks and Continuing"
   ]
  },
  {
   "cell_type": "markdown",
   "id": "b64ea7d0",
   "metadata": {},
   "source": [
    "There are two special keywords in Python that can change how the control flows through a loop:\n",
    "\n",
    "- continue will skip to the next iteration of a loop\n",
    "\n",
    "- break will stop executing the loop entirely"
   ]
  },
  {
   "cell_type": "code",
   "execution_count": 8,
   "id": "1445056b",
   "metadata": {},
   "outputs": [
    {
     "name": "stdout",
     "output_type": "stream",
     "text": [
      "0\n",
      "1\n",
      "2\n",
      "3\n",
      "4\n",
      "5\n",
      "6\n",
      "7\n",
      "8\n",
      "9\n",
      "10\n",
      "11\n"
     ]
    }
   ],
   "source": [
    "for n in range(100_000):\n",
    "    print(n)\n",
    "    if n > 10:\n",
    "        break\n"
   ]
  },
  {
   "cell_type": "code",
   "execution_count": 9,
   "id": "ad531cfb",
   "metadata": {},
   "outputs": [
    {
     "name": "stdout",
     "output_type": "stream",
     "text": [
      "age average: 29.00\n",
      "is_vegetarian is not numeric, skipping\n",
      "shoe size average: 8.86\n",
      "ISP is not numeric, skipping\n",
      "BMI average: 23.90\n"
     ]
    }
   ],
   "source": [
    "dataset = [{'name': 'age', 'type': 'int', 'data': [20, 25, 43, 11, 15, 53, 36]},\n",
    "           {'name': 'is_vegetarian', 'type': 'boolean', 'data': [False, True, False, False, True, False, False]},\n",
    "           {'name': 'shoe size', 'type': 'int', 'data': [8, 11, 7, 10, 7, 9, 10]},\n",
    "           {'name': 'ISP', 'type': 'categorical', 'data': ['AT&T', 'Spectrum', 'Spectrum', 'Spectrum', 'AT&T', 'Spectrum', 'AT&T']},\n",
    "           {'name': 'BMI', 'type': 'float', 'data': [29.9, 20.4, 23.3, 21.7, 22.2, 22.8, 27.0]}]\n",
    "\n",
    "# print the means for the numeric data\n",
    "for feature in dataset:\n",
    "    if feature['type'] == 'categorical' or feature['type'] == 'boolean':\n",
    "        print(f\"{feature['name']} is not numeric, skipping\")\n",
    "        continue\n",
    "    avg = sum(feature['data']) / len(feature['data'])\n",
    "    print(f\"{feature['name']} average: {avg:.2f}\") # the :.2f formats the decimal to 2 places.\n"
   ]
  },
  {
   "cell_type": "markdown",
   "id": "486749c7",
   "metadata": {},
   "source": [
    "### Examples during class (with minor adjustments)"
   ]
  },
  {
   "cell_type": "code",
   "execution_count": 13,
   "id": "224fc4bd",
   "metadata": {},
   "outputs": [
    {
     "name": "stdout",
     "output_type": "stream",
     "text": [
      "Nice glasses, nerd!\n"
     ]
    }
   ],
   "source": [
    "has_glasses = True\n",
    "\n",
    "if has_glasses:\n",
    "    print('Nice glasses, nerd!')\n",
    "    "
   ]
  },
  {
   "cell_type": "code",
   "execution_count": 15,
   "id": "8792b1eb",
   "metadata": {},
   "outputs": [
    {
     "name": "stdout",
     "output_type": "stream",
     "text": [
      "What's it like to be god's chosen?\n"
     ]
    }
   ],
   "source": [
    "has_glasses = False\n",
    "\n",
    "if has_glasses:\n",
    "    print('Nice glasses, nerd!')\n",
    "else:\n",
    "    print(\"What's it like to be god's chosen?\")\n",
    "    "
   ]
  },
  {
   "cell_type": "code",
   "execution_count": 21,
   "id": "ade53bfc",
   "metadata": {},
   "outputs": [
    {
     "name": "stdout",
     "output_type": "stream",
     "text": [
      "Eww\n"
     ]
    }
   ],
   "source": [
    "lunch = 36\n",
    "\n",
    "if lunch < 10:\n",
    "    print('This never happens...ever.')\n",
    "elif lunch < 20:\n",
    "    print('That sounds more like it.')\n",
    "else:\n",
    "    print('Eww')\n",
    "    "
   ]
  },
  {
   "cell_type": "code",
   "execution_count": 22,
   "id": "14fbef56",
   "metadata": {},
   "outputs": [],
   "source": [
    "eyewear = ['glasses', 'sunglasses', 'contacts', None]\n"
   ]
  },
  {
   "cell_type": "code",
   "execution_count": 29,
   "id": "32084bf7",
   "metadata": {},
   "outputs": [
    {
     "name": "stdout",
     "output_type": "stream",
     "text": [
      "Smitty looks absolutely smashing when he's wearing his glasses.\n",
      "Smitty looks absolutely smashing when he's wearing his sunglasses.\n",
      "Smitty looks absolutely smashing when he's wearing his contacts.\n",
      "Smitty was blessed with no eye problems.\n"
     ]
    }
   ],
   "source": [
    "for item in eyewear:\n",
    "    if item is None:\n",
    "        print('Smitty was blessed with no eye problems.')\n",
    "    else:\n",
    "        print(f'Smitty looks absolutely smashing when he\\'s wearing his {item}.')\n",
    "        "
   ]
  },
  {
   "cell_type": "code",
   "execution_count": null,
   "id": "c0722165",
   "metadata": {},
   "outputs": [],
   "source": [
    "i = 3\n"
   ]
  },
  {
   "cell_type": "code",
   "execution_count": 32,
   "id": "c3f2c89c",
   "metadata": {
    "scrolled": true
   },
   "outputs": [
    {
     "name": "stdout",
     "output_type": "stream",
     "text": [
      "The world is fine...for now.\n",
      "The world is fine...for now.\n",
      "The world is fine...for now.\n",
      "The world is fine...for now.\n"
     ]
    }
   ],
   "source": [
    "while i < 7:\n",
    "    print('The world is fine...for now.')\n",
    "    i += 1\n",
    "    "
   ]
  },
  {
   "cell_type": "code",
   "execution_count": 62,
   "id": "9da2daa9",
   "metadata": {},
   "outputs": [
    {
     "name": "stdout",
     "output_type": "stream",
     "text": [
      "2\n",
      "4\n",
      "16\n",
      "256\n",
      "65536\n"
     ]
    }
   ],
   "source": [
    "i = 2\n",
    "\n",
    "while i < 257 or i > 4:\n",
    "    print(i)\n",
    "    if i > 1_000:\n",
    "        break\n",
    "    i = i ** 2\n",
    "    "
   ]
  },
  {
   "cell_type": "code",
   "execution_count": 47,
   "id": "b0d5bd7c",
   "metadata": {},
   "outputs": [
    {
     "data": {
      "text/plain": [
       "[0, 1, 2, 3, 4, 5, 6, 7, 8, 9]"
      ]
     },
     "execution_count": 47,
     "metadata": {},
     "output_type": "execute_result"
    }
   ],
   "source": [
    "list(range(10))\n"
   ]
  },
  {
   "cell_type": "code",
   "execution_count": 46,
   "id": "2eb56e62",
   "metadata": {},
   "outputs": [
    {
     "name": "stdout",
     "output_type": "stream",
     "text": [
      "0\n",
      "1\n",
      "2\n",
      "3\n",
      "4\n",
      "5\n",
      "6\n",
      "7\n",
      "8\n",
      "9\n"
     ]
    }
   ],
   "source": [
    "for i in range(10):\n",
    "    print(i)\n",
    "    "
   ]
  },
  {
   "cell_type": "code",
   "execution_count": 55,
   "id": "5db3cfa9",
   "metadata": {
    "scrolled": true
   },
   "outputs": [
    {
     "name": "stdout",
     "output_type": "stream",
     "text": [
      "1\n",
      "The number 3 sucks.\n",
      "5\n",
      "7\n",
      "9\n",
      "4\n"
     ]
    }
   ],
   "source": [
    "odd_numbers_count = 0\n",
    "\n",
    "for i in range(10):\n",
    "    if i % 2 == 1:\n",
    "        if i == 3:\n",
    "            print('The number 3 sucks.')\n",
    "            continue\n",
    "        else:\n",
    "            print(i)\n",
    "            odd_numbers_count += 1\n",
    "    \n",
    "print(odd_numbers_count)\n"
   ]
  },
  {
   "cell_type": "code",
   "execution_count": 58,
   "id": "d53b1b35",
   "metadata": {},
   "outputs": [
    {
     "name": "stdout",
     "output_type": "stream",
     "text": [
      "1\n",
      "1\n"
     ]
    }
   ],
   "source": [
    "odd_numbers_count = 0\n",
    "\n",
    "for i in range(10):\n",
    "    if i % 2 == 1:\n",
    "        if i == 3:\n",
    "            break\n",
    "        else:\n",
    "            print(i)\n",
    "            odd_numbers_count += 1\n",
    "    \n",
    "print(odd_numbers_count)\n"
   ]
  },
  {
   "cell_type": "code",
   "execution_count": 60,
   "id": "7f656e5c",
   "metadata": {},
   "outputs": [
    {
     "name": "stdout",
     "output_type": "stream",
     "text": [
      "0\n",
      "1\n",
      "2\n",
      "3\n"
     ]
    }
   ],
   "source": [
    "i = 0\n",
    "\n",
    "while i < 5:\n",
    "    print(i)\n",
    "    if i == 3:\n",
    "        break\n",
    "    i += 1\n",
    "    "
   ]
  },
  {
   "cell_type": "code",
   "execution_count": 61,
   "id": "a10b2b38",
   "metadata": {},
   "outputs": [
    {
     "name": "stdout",
     "output_type": "stream",
     "text": [
      "0\n",
      "1\n",
      "2\n",
      "3\n",
      "4\n",
      "7\n",
      "8\n",
      "9\n"
     ]
    }
   ],
   "source": [
    "for i in range(10):\n",
    "    if i > 4 and i < 7:\n",
    "        continue\n",
    "    else:\n",
    "        print(i)\n"
   ]
  },
  {
   "cell_type": "code",
   "execution_count": null,
   "id": "f3484baa",
   "metadata": {},
   "outputs": [],
   "source": []
  }
 ],
 "metadata": {
  "kernelspec": {
   "display_name": "Python 3 (ipykernel)",
   "language": "python",
   "name": "python3"
  },
  "language_info": {
   "codemirror_mode": {
    "name": "ipython",
    "version": 3
   },
   "file_extension": ".py",
   "mimetype": "text/x-python",
   "name": "python",
   "nbconvert_exporter": "python",
   "pygments_lexer": "ipython3",
   "version": "3.9.13"
  }
 },
 "nbformat": 4,
 "nbformat_minor": 5
}
