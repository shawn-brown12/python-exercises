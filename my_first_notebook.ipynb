{
 "cells": [
  {
   "cell_type": "code",
   "execution_count": null,
   "id": "16f27d75",
   "metadata": {},
   "outputs": [],
   "source": [
    "#Good to remember keyboard shortcuts\n",
    "\n",
    "# Enter - Creates a new line within the cell\n",
    "# Shift + Enter - Runs the current cell\n",
    "# Ctrl + S - Saves\n",
    "# Esc + A - Inserts cell above current\n",
    "# Esc + B - Inserts cell below current\n",
    "# Esc + X - Cuts selected cell\n"
   ]
  },
  {
   "cell_type": "code",
   "execution_count": null,
   "id": "b862bf34",
   "metadata": {},
   "outputs": [],
   "source": [
    "#Demo of type function\n"
   ]
  },
  {
   "cell_type": "code",
   "execution_count": 8,
   "id": "1a04deda",
   "metadata": {},
   "outputs": [
    {
     "data": {
      "text/plain": [
       "int"
      ]
     },
     "execution_count": 8,
     "metadata": {},
     "output_type": "execute_result"
    }
   ],
   "source": [
    "type(123)\n"
   ]
  },
  {
   "cell_type": "code",
   "execution_count": 9,
   "id": "3e1c856b",
   "metadata": {},
   "outputs": [
    {
     "data": {
      "text/plain": [
       "str"
      ]
     },
     "execution_count": 9,
     "metadata": {},
     "output_type": "execute_result"
    }
   ],
   "source": [
    "type('hello')\n"
   ]
  },
  {
   "cell_type": "code",
   "execution_count": 4,
   "id": "b1bb3d90",
   "metadata": {},
   "outputs": [
    {
     "data": {
      "text/plain": [
       "bool"
      ]
     },
     "execution_count": 4,
     "metadata": {},
     "output_type": "execute_result"
    }
   ],
   "source": [
    "type(True) #Or type(False)\n"
   ]
  },
  {
   "cell_type": "code",
   "execution_count": 7,
   "id": "c6b2a578",
   "metadata": {},
   "outputs": [
    {
     "data": {
      "text/plain": [
       "float"
      ]
     },
     "execution_count": 7,
     "metadata": {},
     "output_type": "execute_result"
    }
   ],
   "source": [
    "type(1.23)\n"
   ]
  },
  {
   "cell_type": "code",
   "execution_count": null,
   "id": "57c7a573",
   "metadata": {},
   "outputs": [],
   "source": [
    "#Assigning a variable\n"
   ]
  },
  {
   "cell_type": "code",
   "execution_count": 10,
   "id": "d91c4588",
   "metadata": {},
   "outputs": [],
   "source": [
    "favorite_number = 412\n",
    "n = favorite_number + 5\n"
   ]
  },
  {
   "cell_type": "code",
   "execution_count": 12,
   "id": "bce466d1",
   "metadata": {},
   "outputs": [
    {
     "name": "stdout",
     "output_type": "stream",
     "text": [
      "412\n"
     ]
    }
   ],
   "source": [
    "#Printing the variable\n",
    "print(favorite_number)\n"
   ]
  },
  {
   "cell_type": "code",
   "execution_count": 13,
   "id": "2ec0a1ac",
   "metadata": {},
   "outputs": [
    {
     "data": {
      "text/plain": [
       "int"
      ]
     },
     "execution_count": 13,
     "metadata": {},
     "output_type": "execute_result"
    }
   ],
   "source": [
    "#Can use tab to autocomplete \n",
    "type(favorite_number)\n"
   ]
  },
  {
   "cell_type": "code",
   "execution_count": 14,
   "id": "d95d83e0",
   "metadata": {},
   "outputs": [
    {
     "name": "stdout",
     "output_type": "stream",
     "text": [
      "1\n",
      "2\n",
      "8\n"
     ]
    }
   ],
   "source": [
    "x = 1\n",
    "print(x)\n",
    "x = x + 1\n",
    "print(x)\n",
    "x = x * 3 + x\n",
    "print(x)\n"
   ]
  },
  {
   "cell_type": "code",
   "execution_count": 17,
   "id": "41416f0b",
   "metadata": {},
   "outputs": [
    {
     "data": {
      "text/plain": [
       "True"
      ]
     },
     "execution_count": 17,
     "metadata": {},
     "output_type": "execute_result"
    }
   ],
   "source": [
    "#Boolean Values\n",
    "#True (with a caplital T)\n",
    "#False (with a capital F)\n",
    "\n",
    "#Checking equality\n",
    "True == True \n"
   ]
  },
  {
   "cell_type": "code",
   "execution_count": 18,
   "id": "2d2ccf45",
   "metadata": {},
   "outputs": [
    {
     "data": {
      "text/plain": [
       "False"
      ]
     },
     "execution_count": 18,
     "metadata": {},
     "output_type": "execute_result"
    }
   ],
   "source": [
    "#Does True equal False?\n",
    "\n",
    "True == False\n"
   ]
  },
  {
   "cell_type": "code",
   "execution_count": 19,
   "id": "dd1d30a2",
   "metadata": {},
   "outputs": [
    {
     "data": {
      "text/plain": [
       "False"
      ]
     },
     "execution_count": 19,
     "metadata": {},
     "output_type": "execute_result"
    }
   ],
   "source": [
    "#Checking Inequality\n",
    "\n",
    "True != True\n"
   ]
  },
  {
   "cell_type": "code",
   "execution_count": 20,
   "id": "b8c8a104",
   "metadata": {},
   "outputs": [
    {
     "data": {
      "text/plain": [
       "True"
      ]
     },
     "execution_count": 20,
     "metadata": {},
     "output_type": "execute_result"
    }
   ],
   "source": [
    "#Is True not equal to False\n",
    "\n",
    "True != False\n"
   ]
  },
  {
   "cell_type": "code",
   "execution_count": 21,
   "id": "285dbd82",
   "metadata": {},
   "outputs": [
    {
     "data": {
      "text/plain": [
       "True"
      ]
     },
     "execution_count": 21,
     "metadata": {},
     "output_type": "execute_result"
    }
   ],
   "source": [
    "#not operator\n",
    "#Takes the opposite boolean value\n",
    "\n",
    "not False\n"
   ]
  },
  {
   "cell_type": "code",
   "execution_count": 24,
   "id": "d9f1de25",
   "metadata": {},
   "outputs": [
    {
     "data": {
      "text/plain": [
       "True"
      ]
     },
     "execution_count": 24,
     "metadata": {},
     "output_type": "execute_result"
    }
   ],
   "source": [
    "#Apparently True\n",
    "not not not not not not not not not not not not not not True\n"
   ]
  },
  {
   "cell_type": "code",
   "execution_count": 25,
   "id": "7ffd704a",
   "metadata": {},
   "outputs": [
    {
     "data": {
      "text/plain": [
       "True"
      ]
     },
     "execution_count": 25,
     "metadata": {},
     "output_type": "execute_result"
    }
   ],
   "source": [
    "#and operator\n",
    "#Equals True when both statements are True\n",
    "True and True\n"
   ]
  },
  {
   "cell_type": "code",
   "execution_count": 28,
   "id": "7e3b2f54",
   "metadata": {},
   "outputs": [
    {
     "data": {
      "text/plain": [
       "False"
      ]
     },
     "execution_count": 28,
     "metadata": {},
     "output_type": "execute_result"
    }
   ],
   "source": [
    "#Evaluating and operators\n",
    "\n",
    "#True and True = True\n",
    "#True and False = False\n",
    "#False and False = False\n"
   ]
  },
  {
   "cell_type": "code",
   "execution_count": null,
   "id": "bc8bd6ee",
   "metadata": {},
   "outputs": [],
   "source": [
    "#or operator\n",
    "\n",
    "#True or True = True\n",
    "#True or False = True\n",
    "#False or False = False\n"
   ]
  },
  {
   "cell_type": "code",
   "execution_count": 30,
   "id": "922d1022",
   "metadata": {},
   "outputs": [
    {
     "name": "stdout",
     "output_type": "stream",
     "text": [
      "True\n"
     ]
    }
   ],
   "source": [
    "#Assigning Boolean values to a variable\n",
    "\n",
    "is_first_of_the_month = True\n",
    "report_has_been_sent = False\n",
    "\n",
    "should_process_report = is_first_of_the_month and not report_has_been_sent\n",
    "\n",
    "#Equivalent to asking True and not False\n",
    "#The not operator basically reverses a boolean value\n",
    "#Which means this is equivalent to asking True and True\n",
    "#Which is True\n",
    "\n",
    "print(should_process_report)\n",
    "\n",
    "#Evaluate the Boolean values\n"
   ]
  },
  {
   "cell_type": "code",
   "execution_count": 31,
   "id": "35173ae9",
   "metadata": {},
   "outputs": [
    {
     "data": {
      "text/plain": [
       "True"
      ]
     },
     "execution_count": 31,
     "metadata": {},
     "output_type": "execute_result"
    }
   ],
   "source": [
    "#Comparision operators\n",
    "\n",
    "1 == 1\n"
   ]
  },
  {
   "cell_type": "code",
   "execution_count": 32,
   "id": "1534d2a8",
   "metadata": {},
   "outputs": [
    {
     "data": {
      "text/plain": [
       "True"
      ]
     },
     "execution_count": 32,
     "metadata": {},
     "output_type": "execute_result"
    }
   ],
   "source": [
    "#Comparing two strings\n",
    "\n",
    "'string' == 'string'\n"
   ]
  },
  {
   "cell_type": "code",
   "execution_count": 33,
   "id": "422dfd06",
   "metadata": {},
   "outputs": [
    {
     "data": {
      "text/plain": [
       "False"
      ]
     },
     "execution_count": 33,
     "metadata": {},
     "output_type": "execute_result"
    }
   ],
   "source": [
    "'string' == 'String'\n"
   ]
  },
  {
   "cell_type": "code",
   "execution_count": 34,
   "id": "2668abdf",
   "metadata": {},
   "outputs": [
    {
     "data": {
      "text/plain": [
       "False"
      ]
     },
     "execution_count": 34,
     "metadata": {},
     "output_type": "execute_result"
    }
   ],
   "source": [
    "#Checking inequality\n",
    "#1 is NOT equal to 0\n",
    "1 != 1\n"
   ]
  },
  {
   "cell_type": "code",
   "execution_count": 35,
   "id": "3e05de41",
   "metadata": {},
   "outputs": [
    {
     "data": {
      "text/plain": [
       "True"
      ]
     },
     "execution_count": 35,
     "metadata": {},
     "output_type": "execute_result"
    }
   ],
   "source": [
    "#Check if value is greater than another\n",
    "#Is 1 greater than 0?\n",
    "1 > 0\n"
   ]
  },
  {
   "cell_type": "code",
   "execution_count": 36,
   "id": "865939d4",
   "metadata": {},
   "outputs": [
    {
     "data": {
      "text/plain": [
       "False"
      ]
     },
     "execution_count": 36,
     "metadata": {},
     "output_type": "execute_result"
    }
   ],
   "source": [
    "#Is 5 less than 4?\n",
    "5 < 4\n"
   ]
  },
  {
   "cell_type": "code",
   "execution_count": 37,
   "id": "74d99486",
   "metadata": {},
   "outputs": [
    {
     "data": {
      "text/plain": [
       "False"
      ]
     },
     "execution_count": 37,
     "metadata": {},
     "output_type": "execute_result"
    }
   ],
   "source": [
    "#Greater than or equal to AND Less than or equal to\n",
    "#Is 5 greater than or equal to 5?\n",
    "5 > 5\n"
   ]
  },
  {
   "cell_type": "code",
   "execution_count": 38,
   "id": "afcc40fe",
   "metadata": {},
   "outputs": [
    {
     "data": {
      "text/plain": [
       "True"
      ]
     },
     "execution_count": 38,
     "metadata": {},
     "output_type": "execute_result"
    }
   ],
   "source": [
    "5 >= 5\n"
   ]
  },
  {
   "cell_type": "code",
   "execution_count": 39,
   "id": "fe1dfc88",
   "metadata": {},
   "outputs": [
    {
     "data": {
      "text/plain": [
       "False"
      ]
     },
     "execution_count": 39,
     "metadata": {},
     "output_type": "execute_result"
    }
   ],
   "source": [
    "17 <= 12\n"
   ]
  },
  {
   "cell_type": "code",
   "execution_count": 40,
   "id": "ce8ae644",
   "metadata": {},
   "outputs": [
    {
     "data": {
      "text/plain": [
       "True"
      ]
     },
     "execution_count": 40,
     "metadata": {},
     "output_type": "execute_result"
    }
   ],
   "source": [
    "4 + 5 > 10 - 2\n"
   ]
  },
  {
   "cell_type": "code",
   "execution_count": 53,
   "id": "c0b03c40",
   "metadata": {},
   "outputs": [
    {
     "data": {
      "text/plain": [
       "'   hello, codeup!   '"
      ]
     },
     "execution_count": 53,
     "metadata": {},
     "output_type": "execute_result"
    }
   ],
   "source": [
    "#Strings\n",
    "#Manipulating the string\n",
    "\n",
    "s = '   Hello, Codeup!   '\n",
    "\n",
    "#lower() - Makes the string lowercase\n",
    "\n",
    "s.lower()\n"
   ]
  },
  {
   "cell_type": "code",
   "execution_count": 45,
   "id": "7fb1360b",
   "metadata": {},
   "outputs": [
    {
     "data": {
      "text/plain": [
       "'Hello, Codeup!'"
      ]
     },
     "execution_count": 45,
     "metadata": {},
     "output_type": "execute_result"
    }
   ],
   "source": [
    "#strip() - Removes excess spaces on either end of string, NOT inside of the string\n",
    "\n",
    "s.strip()\n"
   ]
  },
  {
   "cell_type": "code",
   "execution_count": 46,
   "id": "cceec45c",
   "metadata": {},
   "outputs": [
    {
     "data": {
      "text/plain": [
       "False"
      ]
     },
     "execution_count": 46,
     "metadata": {},
     "output_type": "execute_result"
    }
   ],
   "source": [
    "#isdigit() - Checks if string is a digit\n",
    "#Returns true if digit, False if not\n",
    "\n",
    "s.isdigit()\n"
   ]
  },
  {
   "cell_type": "code",
   "execution_count": 52,
   "id": "1aabb0b2",
   "metadata": {},
   "outputs": [
    {
     "data": {
      "text/plain": [
       "['Hello Codeup!']"
      ]
     },
     "execution_count": 52,
     "metadata": {},
     "output_type": "execute_result"
    }
   ],
   "source": [
    "#split() - Converts a string to a list, turns whole string into one entry in a list\n",
    "#Can use multiple methods at once\n",
    "\n",
    "s.strip().split(', ')\n"
   ]
  },
  {
   "cell_type": "code",
   "execution_count": 54,
   "id": "03f1e8ad",
   "metadata": {},
   "outputs": [
    {
     "data": {
      "text/plain": [
       "'one, two, three'"
      ]
     },
     "execution_count": 54,
     "metadata": {},
     "output_type": "execute_result"
    }
   ],
   "source": [
    "#join() - Converts a list into a string\n",
    "#\n",
    "', '.join(['one', 'two', 'three'])\n"
   ]
  },
  {
   "cell_type": "code",
   "execution_count": 55,
   "id": "9a674c06",
   "metadata": {},
   "outputs": [
    {
     "data": {
      "text/plain": [
       "[1, 2, 3]"
      ]
     },
     "execution_count": 55,
     "metadata": {},
     "output_type": "execute_result"
    }
   ],
   "source": [
    "#Creating a list\n",
    "#Enclosed in square brackets\n",
    "#Every element of a list is separated by a comma\n",
    "\n",
    "[1, 2, 3]\n"
   ]
  },
  {
   "cell_type": "code",
   "execution_count": 56,
   "id": "715b1385",
   "metadata": {},
   "outputs": [
    {
     "data": {
      "text/plain": [
       "list"
      ]
     },
     "execution_count": 56,
     "metadata": {},
     "output_type": "execute_result"
    }
   ],
   "source": [
    "type([1, 2, 3])\n"
   ]
  },
  {
   "cell_type": "code",
   "execution_count": 57,
   "id": "a17ba174",
   "metadata": {},
   "outputs": [
    {
     "data": {
      "text/plain": [
       "['one', 'two', 'three']"
      ]
     },
     "execution_count": 57,
     "metadata": {},
     "output_type": "execute_result"
    }
   ],
   "source": [
    "#List with strings\n",
    "\n",
    "['one', 'two', 'three']\n"
   ]
  },
  {
   "cell_type": "code",
   "execution_count": 59,
   "id": "10f8fe70",
   "metadata": {},
   "outputs": [
    {
     "name": "stdout",
     "output_type": "stream",
     "text": [
      "['one', 'two', 'three']\n"
     ]
    }
   ],
   "source": [
    "#Assigning the list a variable\n",
    "\n",
    "my_list = ['one', 'two', 'three']\n",
    "print(my_list)\n"
   ]
  },
  {
   "cell_type": "code",
   "execution_count": 60,
   "id": "fd3b4391",
   "metadata": {},
   "outputs": [
    {
     "data": {
      "text/plain": [
       "[[1, 2, 3], [4, 5, 6], [7, 8, 9]]"
      ]
     },
     "execution_count": 60,
     "metadata": {},
     "output_type": "execute_result"
    }
   ],
   "source": [
    "#Lists can contain lists\n",
    "\n",
    "[[1, 2, 3], [4, 5, 6], [7, 8, 9]]\n"
   ]
  },
  {
   "cell_type": "code",
   "execution_count": 61,
   "id": "1210eaab",
   "metadata": {},
   "outputs": [
    {
     "data": {
      "text/plain": [
       "[0, 1, 2, 3, 4, 5, 6, 7, 8, 9]"
      ]
     },
     "execution_count": 61,
     "metadata": {},
     "output_type": "execute_result"
    }
   ],
   "source": [
    "#Creating lists with list comprehension\n",
    "\n",
    "[n for n in range(10)]\n",
    "\n",
    "#Python is 0 indexed, and thus starts at 0\n",
    "#Does not include 10, since we started at 0 and returned 10 integers within the list\n"
   ]
  },
  {
   "cell_type": "code",
   "execution_count": 62,
   "id": "b236607e",
   "metadata": {},
   "outputs": [
    {
     "data": {
      "text/plain": [
       "[0, 2, 4, 6, 8, 10, 12, 14, 16, 18]"
      ]
     },
     "execution_count": 62,
     "metadata": {},
     "output_type": "execute_result"
    }
   ],
   "source": [
    "#Returns n 10 times, starting with 0 and multiplying each instance by 2\n",
    "\n",
    "[n * 2 for n in range(10)]\n",
    "\n"
   ]
  },
  {
   "cell_type": "code",
   "execution_count": 63,
   "id": "6453522a",
   "metadata": {},
   "outputs": [
    {
     "data": {
      "text/plain": [
       "[0, 4, 8, 12, 16]"
      ]
     },
     "execution_count": 63,
     "metadata": {},
     "output_type": "execute_result"
    }
   ],
   "source": [
    "#Checking if n % 2 is equal to zero \n",
    "#if statements takes n before multiplication, ie 1 / 2, 2 / 2, 3 /2, ect, and is only adding values\n",
    "#to the list if the remainder is 0, which means the number (n) is false\n",
    "#SO \n",
    "# n = 0 condition is True\n",
    "# n = 1 condition False\n",
    "# n = 2 condition True\n",
    "# n = 3 condition False\n",
    "\n",
    "[n * 2 for n in range(10) if n % 2 == 0]\n"
   ]
  },
  {
   "cell_type": "code",
   "execution_count": 17,
   "id": "f7f53a72",
   "metadata": {},
   "outputs": [],
   "source": [
    "#More list operations\n",
    "\n",
    "numbers = [1, 2, 3]\n"
   ]
  },
  {
   "cell_type": "code",
   "execution_count": 19,
   "id": "21ad779d",
   "metadata": {},
   "outputs": [
    {
     "data": {
      "text/plain": [
       "[1, 2, 3, 4, 4]"
      ]
     },
     "execution_count": 19,
     "metadata": {},
     "output_type": "execute_result"
    }
   ],
   "source": [
    "#Append changes the variable by adding onto the end\n",
    "\n",
    "numbers.append(4)\n",
    "numbers\n"
   ]
  },
  {
   "cell_type": "code",
   "execution_count": 21,
   "id": "15537184",
   "metadata": {},
   "outputs": [
    {
     "data": {
      "text/plain": [
       "[1, 2, 3]"
      ]
     },
     "execution_count": 21,
     "metadata": {},
     "output_type": "execute_result"
    }
   ],
   "source": [
    "#Pop removes the last value\n",
    "\n",
    "numbers.pop()\n",
    "numbers\n"
   ]
  },
  {
   "cell_type": "code",
   "execution_count": 22,
   "id": "59ec0a9e",
   "metadata": {},
   "outputs": [
    {
     "data": {
      "text/plain": [
       "3"
      ]
     },
     "execution_count": 22,
     "metadata": {},
     "output_type": "execute_result"
    }
   ],
   "source": [
    "#len checks the length\n",
    "\n",
    "len(numbers)\n"
   ]
  },
  {
   "cell_type": "code",
   "execution_count": 23,
   "id": "c8ca5587",
   "metadata": {},
   "outputs": [
    {
     "data": {
      "text/plain": [
       "1"
      ]
     },
     "execution_count": 23,
     "metadata": {},
     "output_type": "execute_result"
    }
   ],
   "source": [
    "#Since Python is indexed at 0, asking for it to return whatever is in the 0 index is the first value\n",
    "\n",
    "numbers[0]\n"
   ]
  },
  {
   "cell_type": "code",
   "execution_count": 24,
   "id": "824c941b",
   "metadata": {},
   "outputs": [
    {
     "data": {
      "text/plain": [
       "3"
      ]
     },
     "execution_count": 24,
     "metadata": {},
     "output_type": "execute_result"
    }
   ],
   "source": [
    "#Again, since Python is 0 indexed asking for index 2, in this case, will return the last number\n",
    "#Alternatively, if you want the last regardless of length you would use -1\n",
    "\n",
    "numbers[2]\n"
   ]
  },
  {
   "cell_type": "code",
   "execution_count": 25,
   "id": "6faed7e3",
   "metadata": {},
   "outputs": [
    {
     "data": {
      "text/plain": [
       "[1, 2]"
      ]
     },
     "execution_count": 25,
     "metadata": {},
     "output_type": "execute_result"
    }
   ],
   "source": [
    "#Returns everything starting at index 0 up to but not including index 2\n",
    "\n",
    "numbers[:2]\n"
   ]
  },
  {
   "cell_type": "code",
   "execution_count": 26,
   "id": "5b7d70a1",
   "metadata": {},
   "outputs": [
    {
     "data": {
      "text/plain": [
       "[2]"
      ]
     },
     "execution_count": 26,
     "metadata": {},
     "output_type": "execute_result"
    }
   ],
   "source": [
    "#Returns everything starting at index 1 and up to but not including index 2\n",
    "\n",
    "numbers[1:2]\n"
   ]
  },
  {
   "cell_type": "code",
   "execution_count": 28,
   "id": "52543699",
   "metadata": {},
   "outputs": [
    {
     "data": {
      "text/plain": [
       "[2, 3]"
      ]
     },
     "execution_count": 28,
     "metadata": {},
     "output_type": "execute_result"
    }
   ],
   "source": [
    "#Returns everything starting at index 1 through the end of the list\n",
    "\n",
    "numbers[1:]\n"
   ]
  },
  {
   "cell_type": "code",
   "execution_count": 29,
   "id": "8e9743e6",
   "metadata": {},
   "outputs": [
    {
     "data": {
      "text/plain": [
       "[0, 1, 2, 3, 4, 5, 6, 7, 8, 9]"
      ]
     },
     "execution_count": 29,
     "metadata": {},
     "output_type": "execute_result"
    }
   ],
   "source": [
    "#Creating a list\n",
    "\n",
    "list(range(10))"
   ]
  },
  {
   "cell_type": "code",
   "execution_count": 33,
   "id": "56346bbd",
   "metadata": {},
   "outputs": [],
   "source": [
    "#Can assign to a variable as its created\n",
    "\n",
    "my_numbers_list = list(range(10))\n"
   ]
  },
  {
   "cell_type": "code",
   "execution_count": 34,
   "id": "ded80027",
   "metadata": {},
   "outputs": [
    {
     "data": {
      "text/plain": [
       "[0, 1, 2, 3, 4, 5, 6, 7, 8, 9]"
      ]
     },
     "execution_count": 34,
     "metadata": {},
     "output_type": "execute_result"
    }
   ],
   "source": [
    "my_numbers_list\n"
   ]
  },
  {
   "cell_type": "code",
   "execution_count": 30,
   "id": "ec6660a8",
   "metadata": {},
   "outputs": [
    {
     "data": {
      "text/plain": [
       "['a', 'b', 'c', 'd', 'e']"
      ]
     },
     "execution_count": 30,
     "metadata": {},
     "output_type": "execute_result"
    }
   ],
   "source": [
    "list('abcde')\n"
   ]
  },
  {
   "cell_type": "code",
   "execution_count": 31,
   "id": "8ff1ef3c",
   "metadata": {},
   "outputs": [
    {
     "data": {
      "text/plain": [
       "['a', 'c', 'b', ' ', 'd', ' ', 'e', ' ', 'e']"
      ]
     },
     "execution_count": 31,
     "metadata": {},
     "output_type": "execute_result"
    }
   ],
   "source": [
    "list('acb d e e')\n"
   ]
  },
  {
   "cell_type": "code",
   "execution_count": 32,
   "id": "2684136d",
   "metadata": {},
   "outputs": [
    {
     "data": {
      "text/plain": [
       "['1', '2', '3']"
      ]
     },
     "execution_count": 32,
     "metadata": {},
     "output_type": "execute_result"
    }
   ],
   "source": [
    "list(map(str, [1,2,3]))\n",
    "\n",
    "#Broken down, this line took the list [1,2,3], converted the integers within into strings with the map(str())\n",
    "#function, and then output it as a list\n"
   ]
  },
  {
   "cell_type": "code",
   "execution_count": null,
   "id": "3674c862",
   "metadata": {},
   "outputs": [],
   "source": [
    "#Formatting Strings\n"
   ]
  },
  {
   "cell_type": "code",
   "execution_count": 1,
   "id": "cafaa904",
   "metadata": {},
   "outputs": [
    {
     "name": "stdout",
     "output_type": "stream",
     "text": [
      "Here is a single quote --> ' <-- \n",
      "Here is a single quote --> ' <-- \n",
      "\n",
      "Here is a double quote --> \" <--\n",
      "Here is a double quote --> \" <--\n",
      "\n",
      "Newlines are indicated by the character \"n\" preceded by a backslash, like so\n",
      "\n",
      "This string\n",
      "contains a newline\n"
     ]
    }
   ],
   "source": [
    "print('Here is a single quote --> \\' <-- ')\n",
    "#String is enclosed by double quotes\n",
    "print(\"Here is a single quote --> ' <-- \")\n",
    "print()\n",
    "print(\"Here is a double quote --> \\\" <--\")\n",
    "print('Here is a double quote --> \" <--')\n",
    "print()\n",
    "print('Newlines are indicated by the character \"n\" preceded by a backslash, like so')\n",
    "print()\n",
    "print('This string\\ncontains a newline')\n"
   ]
  },
  {
   "cell_type": "code",
   "execution_count": 2,
   "id": "43296ff1",
   "metadata": {},
   "outputs": [
    {
     "data": {
      "text/plain": [
       "'\\nThis string\\ncan contain\\na lot of\\ntext!\\n'"
      ]
     },
     "execution_count": 2,
     "metadata": {},
     "output_type": "execute_result"
    }
   ],
   "source": [
    "'''\n",
    "This string\n",
    "can contain\n",
    "a lot of\n",
    "text!\n",
    "'''\n"
   ]
  },
  {
   "cell_type": "code",
   "execution_count": 13,
   "id": "438166ed",
   "metadata": {},
   "outputs": [],
   "source": [
    "# Store a string to a variable name\n",
    "name = 'World'\n"
   ]
  },
  {
   "cell_type": "code",
   "execution_count": 14,
   "id": "30a01e8b",
   "metadata": {},
   "outputs": [
    {
     "data": {
      "text/plain": [
       "'Hello, World!'"
      ]
     },
     "execution_count": 14,
     "metadata": {},
     "output_type": "execute_result"
    }
   ],
   "source": [
    "#Formatting a string\n",
    "#First way to accomplish same thing\n",
    "'Hello, %s!' % name\n"
   ]
  },
  {
   "cell_type": "code",
   "execution_count": 15,
   "id": "47259abe",
   "metadata": {},
   "outputs": [
    {
     "data": {
      "text/plain": [
       "'Hello, World!'"
      ]
     },
     "execution_count": 15,
     "metadata": {},
     "output_type": "execute_result"
    }
   ],
   "source": [
    "#Second way to accomplish same thing\n",
    "'Hello, {}!'.format(name)\n"
   ]
  },
  {
   "cell_type": "code",
   "execution_count": 16,
   "id": "7d7e4746",
   "metadata": {},
   "outputs": [
    {
     "data": {
      "text/plain": [
       "'Hello World'"
      ]
     },
     "execution_count": 16,
     "metadata": {},
     "output_type": "execute_result"
    }
   ],
   "source": [
    "#Third way to accomplish the same thing, easiest to use and read\n",
    "#f standing for 'format' here\n",
    "\n",
    "f'Hello {name}'"
   ]
  },
  {
   "cell_type": "code",
   "execution_count": null,
   "id": "dedf2702",
   "metadata": {},
   "outputs": [],
   "source": [
    "#String Operations \n"
   ]
  },
  {
   "cell_type": "code",
   "execution_count": 6,
   "id": "5a714024",
   "metadata": {},
   "outputs": [
    {
     "data": {
      "text/plain": [
       "'abcdef'"
      ]
     },
     "execution_count": 6,
     "metadata": {},
     "output_type": "execute_result"
    }
   ],
   "source": [
    "#Adding strings together with + concatenates them\n",
    "\n",
    "'abc' + 'def'\n"
   ]
  },
  {
   "cell_type": "code",
   "execution_count": 5,
   "id": "850e59b3",
   "metadata": {},
   "outputs": [
    {
     "data": {
      "text/plain": [
       "'abc def'"
      ]
     },
     "execution_count": 5,
     "metadata": {},
     "output_type": "execute_result"
    }
   ],
   "source": [
    "#Spaces count as characters\n",
    "\n",
    "'abc ' + 'def'\n"
   ]
  },
  {
   "cell_type": "code",
   "execution_count": 7,
   "id": "65f1ce84",
   "metadata": {},
   "outputs": [
    {
     "data": {
      "text/plain": [
       "False"
      ]
     },
     "execution_count": 7,
     "metadata": {},
     "output_type": "execute_result"
    }
   ],
   "source": [
    "'abc' == 'abc '\n"
   ]
  },
  {
   "cell_type": "code",
   "execution_count": 9,
   "id": "3a17eb21",
   "metadata": {},
   "outputs": [
    {
     "data": {
      "text/plain": [
       "'abcabcabc'"
      ]
     },
     "execution_count": 9,
     "metadata": {},
     "output_type": "execute_result"
    }
   ],
   "source": [
    "'abc' * 3\n"
   ]
  },
  {
   "cell_type": "code",
   "execution_count": 10,
   "id": "a3587554",
   "metadata": {},
   "outputs": [
    {
     "data": {
      "text/plain": [
       "False"
      ]
     },
     "execution_count": 10,
     "metadata": {},
     "output_type": "execute_result"
    }
   ],
   "source": [
    "'2' == 2\n"
   ]
  },
  {
   "cell_type": "code",
   "execution_count": 11,
   "id": "f42dac1e",
   "metadata": {
    "scrolled": true
   },
   "outputs": [
    {
     "ename": "TypeError",
     "evalue": "can only concatenate str (not \"int\") to str",
     "output_type": "error",
     "traceback": [
      "\u001b[0;31m---------------------------------------------------------------------------\u001b[0m",
      "\u001b[0;31mTypeError\u001b[0m                                 Traceback (most recent call last)",
      "Input \u001b[0;32mIn [11]\u001b[0m, in \u001b[0;36m<cell line: 1>\u001b[0;34m()\u001b[0m\n\u001b[0;32m----> 1\u001b[0m \u001b[38;5;124;43m'\u001b[39;49m\u001b[38;5;124;43m2\u001b[39;49m\u001b[38;5;124;43m'\u001b[39;49m\u001b[38;5;241;43m+\u001b[39;49m\u001b[43m \u001b[49m\u001b[38;5;241;43m1\u001b[39;49m\n",
      "\u001b[0;31mTypeError\u001b[0m: can only concatenate str (not \"int\") to str"
     ]
    }
   ],
   "source": [
    "'2'+ 1\n"
   ]
  },
  {
   "cell_type": "code",
   "execution_count": 12,
   "id": "5ed15432",
   "metadata": {},
   "outputs": [
    {
     "data": {
      "text/plain": [
       "'21'"
      ]
     },
     "execution_count": 12,
     "metadata": {},
     "output_type": "execute_result"
    }
   ],
   "source": [
    "'2' + '1'"
   ]
  },
  {
   "cell_type": "code",
   "execution_count": 36,
   "id": "e5982623",
   "metadata": {},
   "outputs": [
    {
     "data": {
      "text/plain": [
       "(1, 'two', 3, 'four', 5, 'six', 'a', 'c', 'q')"
      ]
     },
     "execution_count": 36,
     "metadata": {},
     "output_type": "execute_result"
    }
   ],
   "source": [
    "#Tuples \n",
    "#Immutable - length is fixed; used with parenthesis\n",
    "\n",
    "(1, 'two', 3, 'four', 5, 'six', 'a', 'c', 'q')\n"
   ]
  },
  {
   "cell_type": "code",
   "execution_count": 38,
   "id": "b05ef33f",
   "metadata": {},
   "outputs": [
    {
     "data": {
      "text/plain": [
       "2"
      ]
     },
     "execution_count": 38,
     "metadata": {},
     "output_type": "execute_result"
    }
   ],
   "source": [
    "my_tuple = (1, 2, 3)\n",
    "my_tuple[1]\n",
    "\n",
    "#Lists for elements of the same type\\\n",
    "#Tuples for different types\n"
   ]
  },
  {
   "cell_type": "code",
   "execution_count": 40,
   "id": "e3a51861",
   "metadata": {},
   "outputs": [
    {
     "data": {
      "text/plain": [
       "{'name': 'Codeup', 'age': 4}"
      ]
     },
     "execution_count": 40,
     "metadata": {},
     "output_type": "execute_result"
    }
   ],
   "source": [
    "#Dictionaries\n",
    "#Key : Value (key-value pairs)\n",
    "\n",
    "{'name':'Codeup', 'age': 4}\n"
   ]
  },
  {
   "cell_type": "code",
   "execution_count": 41,
   "id": "a9ff3258",
   "metadata": {},
   "outputs": [
    {
     "data": {
      "text/plain": [
       "{'name': 'Codeup', 'age': 4}"
      ]
     },
     "execution_count": 41,
     "metadata": {},
     "output_type": "execute_result"
    }
   ],
   "source": [
    "#Use the dict function\n",
    "\n",
    "dict(name = 'Codeup', age =4)\n"
   ]
  },
  {
   "cell_type": "code",
   "execution_count": 43,
   "id": "2511d600",
   "metadata": {},
   "outputs": [
    {
     "data": {
      "text/plain": [
       "{'name': 'Codeup', 'age': 4}"
      ]
     },
     "execution_count": 43,
     "metadata": {},
     "output_type": "execute_result"
    }
   ],
   "source": [
    "#Assigning the dictionary a name during creation with dict function\n",
    "\n",
    "school = dict(name='Codeup', age=4)\n",
    "school\n"
   ]
  },
  {
   "cell_type": "code",
   "execution_count": 44,
   "id": "bf0e8433",
   "metadata": {},
   "outputs": [
    {
     "data": {
      "text/plain": [
       "'Codeup'"
      ]
     },
     "execution_count": 44,
     "metadata": {},
     "output_type": "execute_result"
    }
   ],
   "source": [
    "#Can pull the value associated with a key\n",
    "\n",
    "school['name']\n"
   ]
  },
  {
   "cell_type": "code",
   "execution_count": 45,
   "id": "01fd0782",
   "metadata": {},
   "outputs": [],
   "source": [
    "school['age'] += 1\n"
   ]
  },
  {
   "cell_type": "code",
   "execution_count": 46,
   "id": "13cc286b",
   "metadata": {},
   "outputs": [
    {
     "data": {
      "text/plain": [
       "{'name': 'Codeup', 'age': 5}"
      ]
     },
     "execution_count": 46,
     "metadata": {},
     "output_type": "execute_result"
    }
   ],
   "source": [
    "school\n"
   ]
  },
  {
   "cell_type": "markdown",
   "id": "de1dfca6",
   "metadata": {},
   "source": [
    "# Markdown"
   ]
  },
  {
   "cell_type": "code",
   "execution_count": null,
   "id": "b8dfe48c",
   "metadata": {},
   "outputs": [],
   "source": [
    "#Markdown - esc m enters markdown mode\n",
    "# The # signifies a heading, with more # making the heading smaller\n",
    "# **This is bold**"
   ]
  },
  {
   "cell_type": "markdown",
   "id": "eaaf682f",
   "metadata": {},
   "source": [
    "# Heading 1"
   ]
  },
  {
   "cell_type": "markdown",
   "id": "7bfe028d",
   "metadata": {},
   "source": [
    "## Heading 2"
   ]
  },
  {
   "cell_type": "markdown",
   "id": "654ea905",
   "metadata": {},
   "source": [
    "### Heading 3"
   ]
  },
  {
   "cell_type": "markdown",
   "id": "9fc4b1fc",
   "metadata": {},
   "source": [
    "#### Heading 4"
   ]
  },
  {
   "cell_type": "markdown",
   "id": "73c0ab04",
   "metadata": {},
   "source": [
    "**Bold**"
   ]
  },
  {
   "cell_type": "markdown",
   "id": "3ee76a6b",
   "metadata": {},
   "source": [
    "# Data Types, Operators, and Variables Initial Exercises"
   ]
  },
  {
   "cell_type": "markdown",
   "id": "385f989d",
   "metadata": {},
   "source": [
    "Identify the data type of the following values:"
   ]
  },
  {
   "cell_type": "code",
   "execution_count": 47,
   "id": "4e2f62ad",
   "metadata": {},
   "outputs": [
    {
     "data": {
      "text/plain": [
       "float"
      ]
     },
     "execution_count": 47,
     "metadata": {},
     "output_type": "execute_result"
    }
   ],
   "source": [
    "type(99.9) #Float\n"
   ]
  },
  {
   "cell_type": "code",
   "execution_count": 48,
   "id": "3e35279d",
   "metadata": {},
   "outputs": [
    {
     "data": {
      "text/plain": [
       "str"
      ]
     },
     "execution_count": 48,
     "metadata": {},
     "output_type": "execute_result"
    }
   ],
   "source": [
    "type(\"False\") #Str\n"
   ]
  },
  {
   "cell_type": "code",
   "execution_count": 49,
   "id": "8693eb67",
   "metadata": {},
   "outputs": [
    {
     "data": {
      "text/plain": [
       "bool"
      ]
     },
     "execution_count": 49,
     "metadata": {},
     "output_type": "execute_result"
    }
   ],
   "source": [
    "type(False) #Bool\n"
   ]
  },
  {
   "cell_type": "code",
   "execution_count": 50,
   "id": "e4077c27",
   "metadata": {},
   "outputs": [
    {
     "data": {
      "text/plain": [
       "str"
      ]
     },
     "execution_count": 50,
     "metadata": {},
     "output_type": "execute_result"
    }
   ],
   "source": [
    "type('0') #Str\n"
   ]
  },
  {
   "cell_type": "code",
   "execution_count": 51,
   "id": "79c0d3c3",
   "metadata": {},
   "outputs": [
    {
     "data": {
      "text/plain": [
       "int"
      ]
     },
     "execution_count": 51,
     "metadata": {},
     "output_type": "execute_result"
    }
   ],
   "source": [
    "type(0) #Int\n"
   ]
  },
  {
   "cell_type": "code",
   "execution_count": 52,
   "id": "606a2cb9",
   "metadata": {},
   "outputs": [
    {
     "data": {
      "text/plain": [
       "bool"
      ]
     },
     "execution_count": 52,
     "metadata": {},
     "output_type": "execute_result"
    }
   ],
   "source": [
    "type(True) #Bool\n",
    "    "
   ]
  },
  {
   "cell_type": "code",
   "execution_count": 53,
   "id": "b29266ad",
   "metadata": {},
   "outputs": [
    {
     "data": {
      "text/plain": [
       "str"
      ]
     },
     "execution_count": 53,
     "metadata": {},
     "output_type": "execute_result"
    }
   ],
   "source": [
    "type('True') #Str\n"
   ]
  },
  {
   "cell_type": "code",
   "execution_count": 54,
   "id": "86f1f4e0",
   "metadata": {},
   "outputs": [
    {
     "data": {
      "text/plain": [
       "list"
      ]
     },
     "execution_count": 54,
     "metadata": {},
     "output_type": "execute_result"
    }
   ],
   "source": [
    "type([{}]) #List\n"
   ]
  },
  {
   "cell_type": "code",
   "execution_count": 55,
   "id": "4d2410d6",
   "metadata": {},
   "outputs": [
    {
     "data": {
      "text/plain": [
       "dict"
      ]
     },
     "execution_count": 55,
     "metadata": {},
     "output_type": "execute_result"
    }
   ],
   "source": [
    "type({'a': []}) #Dict\n"
   ]
  },
  {
   "cell_type": "markdown",
   "id": "14242f82",
   "metadata": {},
   "source": [
    "What data type would best represent:\n",
    "\n",
    "A term or phrase typed into a search box?\n",
    "\n",
    "It would be best to store this as a string\n",
    "\n",
    "If a user is logged in?\n",
    "\n",
    "Boolean, because they either are or are not logged in\n",
    "\n",
    "A discount amount to apply to a user's shopping cart?\n",
    "\n",
    "I would store it as an integer because a discount is usually a person, like 15% off\n",
    "\n",
    "Whether or not a coupon code is valid?\n",
    "\n",
    "Boolean, because its either valid or it's not\n",
    "\n",
    "An email address typed into a registration form?\n",
    "\n",
    "String would be best, because an email address can be any combination of characters\n",
    "\n",
    "The price of a product?\n",
    "\n",
    "For the price of a product, which usually includes decimals, a float would be best\n",
    "\n",
    "A Matrix?\n",
    "\n",
    "List\n",
    "\n",
    "The email addresses collected from a registration form?\n",
    "\n",
    "As above, an email address would work best as a string\n",
    "\n",
    "Information about applicants to Codeup's data science program?\n",
    "\n",
    "A dictionary seems to fit best, because you would have a key and value for each piece of information for each student\n"
   ]
  },
  {
   "cell_type": "markdown",
   "id": "3e499196",
   "metadata": {},
   "source": [
    "For each of the following code blocks, read the expression and predict what the result of evaluating it would be, then execute the expression in your Python REPL"
   ]
  },
  {
   "cell_type": "code",
   "execution_count": 56,
   "id": "051997ab",
   "metadata": {},
   "outputs": [
    {
     "ename": "TypeError",
     "evalue": "can only concatenate str (not \"int\") to str",
     "output_type": "error",
     "traceback": [
      "\u001b[0;31m---------------------------------------------------------------------------\u001b[0m",
      "\u001b[0;31mTypeError\u001b[0m                                 Traceback (most recent call last)",
      "Input \u001b[0;32mIn [56]\u001b[0m, in \u001b[0;36m<cell line: 1>\u001b[0;34m()\u001b[0m\n\u001b[0;32m----> 1\u001b[0m \u001b[38;5;124;43m'\u001b[39;49m\u001b[38;5;124;43m1\u001b[39;49m\u001b[38;5;124;43m'\u001b[39;49m\u001b[43m \u001b[49m\u001b[38;5;241;43m+\u001b[39;49m\u001b[43m \u001b[49m\u001b[38;5;241;43m2\u001b[39;49m\n",
      "\u001b[0;31mTypeError\u001b[0m: can only concatenate str (not \"int\") to str"
     ]
    }
   ],
   "source": [
    "'1' + 2\n",
    "\n",
    "#It will cause an error since you can't add a string and int\n"
   ]
  },
  {
   "cell_type": "code",
   "execution_count": 57,
   "id": "cebaa0f7",
   "metadata": {},
   "outputs": [
    {
     "data": {
      "text/plain": [
       "2"
      ]
     },
     "execution_count": 57,
     "metadata": {},
     "output_type": "execute_result"
    }
   ],
   "source": [
    "6 % 4 \n",
    "\n",
    "#It will return 2 \n"
   ]
  },
  {
   "cell_type": "code",
   "execution_count": 58,
   "id": "7e2ade68",
   "metadata": {},
   "outputs": [
    {
     "data": {
      "text/plain": [
       "int"
      ]
     },
     "execution_count": 58,
     "metadata": {},
     "output_type": "execute_result"
    }
   ],
   "source": [
    "type(6 % 4)\n",
    "\n",
    "#It will return as int\n"
   ]
  },
  {
   "cell_type": "code",
   "execution_count": 59,
   "id": "e30e66e8",
   "metadata": {},
   "outputs": [
    {
     "data": {
      "text/plain": [
       "type"
      ]
     },
     "execution_count": 59,
     "metadata": {},
     "output_type": "execute_result"
    }
   ],
   "source": [
    "type(type(6 % 4))\n",
    "\n",
    "#it will return as type for for the type function\n"
   ]
  },
  {
   "cell_type": "code",
   "execution_count": 60,
   "id": "8c42f1f3",
   "metadata": {},
   "outputs": [
    {
     "ename": "TypeError",
     "evalue": "can only concatenate str (not \"int\") to str",
     "output_type": "error",
     "traceback": [
      "\u001b[0;31m---------------------------------------------------------------------------\u001b[0m",
      "\u001b[0;31mTypeError\u001b[0m                                 Traceback (most recent call last)",
      "Input \u001b[0;32mIn [60]\u001b[0m, in \u001b[0;36m<cell line: 1>\u001b[0;34m()\u001b[0m\n\u001b[0;32m----> 1\u001b[0m \u001b[38;5;124;43m'\u001b[39;49m\u001b[38;5;124;43m3 + 4 is \u001b[39;49m\u001b[38;5;124;43m'\u001b[39;49m\u001b[43m \u001b[49m\u001b[38;5;241;43m+\u001b[39;49m\u001b[43m \u001b[49m\u001b[38;5;241;43m3\u001b[39;49m \u001b[38;5;241m+\u001b[39m \u001b[38;5;241m4\u001b[39m\n",
      "\u001b[0;31mTypeError\u001b[0m: can only concatenate str (not \"int\") to str"
     ]
    }
   ],
   "source": [
    "'3 + 4 is ' + 3 + 4\n",
    "\n",
    "#It will error\n"
   ]
  },
  {
   "cell_type": "code",
   "execution_count": 61,
   "id": "b1aadcd3",
   "metadata": {},
   "outputs": [
    {
     "data": {
      "text/plain": [
       "False"
      ]
     },
     "execution_count": 61,
     "metadata": {},
     "output_type": "execute_result"
    }
   ],
   "source": [
    "0 < 0\n",
    "\n",
    "#It will return False\n"
   ]
  },
  {
   "cell_type": "code",
   "execution_count": 62,
   "id": "045c485b",
   "metadata": {},
   "outputs": [
    {
     "data": {
      "text/plain": [
       "False"
      ]
     },
     "execution_count": 62,
     "metadata": {},
     "output_type": "execute_result"
    }
   ],
   "source": [
    "'False' == False\n",
    "\n",
    "#It will return False\n"
   ]
  },
  {
   "cell_type": "code",
   "execution_count": 63,
   "id": "9bd18ec4",
   "metadata": {},
   "outputs": [
    {
     "data": {
      "text/plain": [
       "False"
      ]
     },
     "execution_count": 63,
     "metadata": {},
     "output_type": "execute_result"
    }
   ],
   "source": [
    "True == 'True'\n",
    "\n",
    "#Will return False"
   ]
  },
  {
   "cell_type": "code",
   "execution_count": 64,
   "id": "2eaa1545",
   "metadata": {},
   "outputs": [
    {
     "data": {
      "text/plain": [
       "True"
      ]
     },
     "execution_count": 64,
     "metadata": {},
     "output_type": "execute_result"
    }
   ],
   "source": [
    "5 >= -5\n",
    "\n",
    "#Will return true \n"
   ]
  },
  {
   "cell_type": "code",
   "execution_count": 65,
   "id": "7b5e94ed",
   "metadata": {},
   "outputs": [
    {
     "data": {
      "text/plain": [
       "True"
      ]
     },
     "execution_count": 65,
     "metadata": {},
     "output_type": "execute_result"
    }
   ],
   "source": [
    "True or \"42\"\n",
    "\n",
    "#Will return true\n"
   ]
  },
  {
   "cell_type": "code",
   "execution_count": 66,
   "id": "fcc1ed2e",
   "metadata": {},
   "outputs": [
    {
     "data": {
      "text/plain": [
       "1"
      ]
     },
     "execution_count": 66,
     "metadata": {},
     "output_type": "execute_result"
    }
   ],
   "source": [
    "6 % 5\n",
    "\n",
    "#Will return 1\n"
   ]
  },
  {
   "cell_type": "code",
   "execution_count": 67,
   "id": "c6bcdc34",
   "metadata": {},
   "outputs": [
    {
     "data": {
      "text/plain": [
       "False"
      ]
     },
     "execution_count": 67,
     "metadata": {},
     "output_type": "execute_result"
    }
   ],
   "source": [
    "5 < 4 and 1 == 1\n",
    "\n",
    "#Will return false since 5 is NOT less than 4\n"
   ]
  },
  {
   "cell_type": "code",
   "execution_count": 68,
   "id": "21c7fe98",
   "metadata": {},
   "outputs": [
    {
     "data": {
      "text/plain": [
       "False"
      ]
     },
     "execution_count": 68,
     "metadata": {},
     "output_type": "execute_result"
    }
   ],
   "source": [
    "'codeup' == 'codeup' and 'codeup' == 'Codeup'\n",
    "\n",
    "#False because python is case sensitive\n"
   ]
  },
  {
   "cell_type": "code",
   "execution_count": 69,
   "id": "f49490b5",
   "metadata": {},
   "outputs": [
    {
     "ename": "SyntaxError",
     "evalue": "invalid syntax (1024461187.py, line 1)",
     "output_type": "error",
     "traceback": [
      "\u001b[0;36m  Input \u001b[0;32mIn [69]\u001b[0;36m\u001b[0m\n\u001b[0;31m    4 >= 0 and 1 !== '1'\u001b[0m\n\u001b[0m                   ^\u001b[0m\n\u001b[0;31mSyntaxError\u001b[0m\u001b[0;31m:\u001b[0m invalid syntax\n"
     ]
    }
   ],
   "source": [
    "4 >= 0 and 1 !== '1'\n",
    "\n",
    "# !== is not a comparision operator and will return an error\n"
   ]
  },
  {
   "cell_type": "code",
   "execution_count": 70,
   "id": "6141731d",
   "metadata": {},
   "outputs": [
    {
     "data": {
      "text/plain": [
       "True"
      ]
     },
     "execution_count": 70,
     "metadata": {},
     "output_type": "execute_result"
    }
   ],
   "source": [
    "6 % 3 == 0\n",
    "\n",
    "#true\n"
   ]
  },
  {
   "cell_type": "code",
   "execution_count": 71,
   "id": "e4754d46",
   "metadata": {},
   "outputs": [
    {
     "data": {
      "text/plain": [
       "True"
      ]
     },
     "execution_count": 71,
     "metadata": {},
     "output_type": "execute_result"
    }
   ],
   "source": [
    "5 % 2 != 0\n",
    "\n",
    "#true\n"
   ]
  },
  {
   "cell_type": "code",
   "execution_count": 72,
   "id": "eab8087b",
   "metadata": {},
   "outputs": [
    {
     "ename": "TypeError",
     "evalue": "can only concatenate list (not \"int\") to list",
     "output_type": "error",
     "traceback": [
      "\u001b[0;31m---------------------------------------------------------------------------\u001b[0m",
      "\u001b[0;31mTypeError\u001b[0m                                 Traceback (most recent call last)",
      "Input \u001b[0;32mIn [72]\u001b[0m, in \u001b[0;36m<cell line: 1>\u001b[0;34m()\u001b[0m\n\u001b[0;32m----> 1\u001b[0m \u001b[43m[\u001b[49m\u001b[38;5;241;43m1\u001b[39;49m\u001b[43m]\u001b[49m\u001b[43m \u001b[49m\u001b[38;5;241;43m+\u001b[39;49m\u001b[43m \u001b[49m\u001b[38;5;241;43m2\u001b[39;49m\n",
      "\u001b[0;31mTypeError\u001b[0m: can only concatenate list (not \"int\") to list"
     ]
    }
   ],
   "source": [
    "[1] + 2\n",
    "\n",
    "#will error out\n"
   ]
  },
  {
   "cell_type": "code",
   "execution_count": 73,
   "id": "585a6d90",
   "metadata": {},
   "outputs": [
    {
     "data": {
      "text/plain": [
       "[1, 2]"
      ]
     },
     "execution_count": 73,
     "metadata": {},
     "output_type": "execute_result"
    }
   ],
   "source": [
    "[1] + [2]\n",
    "\n",
    "#Will concat the two lists into one\n"
   ]
  },
  {
   "cell_type": "code",
   "execution_count": 74,
   "id": "64b2f855",
   "metadata": {},
   "outputs": [
    {
     "data": {
      "text/plain": [
       "[1, 1]"
      ]
     },
     "execution_count": 74,
     "metadata": {},
     "output_type": "execute_result"
    }
   ],
   "source": [
    "[1] * 2\n",
    "\n",
    "#Will basically double the bumber of entries in the list\n"
   ]
  },
  {
   "cell_type": "code",
   "execution_count": 75,
   "id": "3c275be8",
   "metadata": {},
   "outputs": [
    {
     "ename": "TypeError",
     "evalue": "can't multiply sequence by non-int of type 'list'",
     "output_type": "error",
     "traceback": [
      "\u001b[0;31m---------------------------------------------------------------------------\u001b[0m",
      "\u001b[0;31mTypeError\u001b[0m                                 Traceback (most recent call last)",
      "Input \u001b[0;32mIn [75]\u001b[0m, in \u001b[0;36m<cell line: 1>\u001b[0;34m()\u001b[0m\n\u001b[0;32m----> 1\u001b[0m \u001b[43m[\u001b[49m\u001b[38;5;241;43m1\u001b[39;49m\u001b[43m]\u001b[49m\u001b[43m \u001b[49m\u001b[38;5;241;43m*\u001b[39;49m\u001b[43m \u001b[49m\u001b[43m[\u001b[49m\u001b[38;5;241;43m2\u001b[39;49m\u001b[43m]\u001b[49m\n",
      "\u001b[0;31mTypeError\u001b[0m: can't multiply sequence by non-int of type 'list'"
     ]
    }
   ],
   "source": [
    "[1] * [2]\n",
    "\n",
    "#will error\n"
   ]
  },
  {
   "cell_type": "code",
   "execution_count": 76,
   "id": "94c59362",
   "metadata": {},
   "outputs": [
    {
     "data": {
      "text/plain": [
       "True"
      ]
     },
     "execution_count": 76,
     "metadata": {},
     "output_type": "execute_result"
    }
   ],
   "source": [
    "[] + [] == []\n",
    "\n",
    "#will return true\n"
   ]
  },
  {
   "cell_type": "code",
   "execution_count": 77,
   "id": "88bff50a",
   "metadata": {},
   "outputs": [
    {
     "ename": "TypeError",
     "evalue": "unsupported operand type(s) for +: 'dict' and 'dict'",
     "output_type": "error",
     "traceback": [
      "\u001b[0;31m---------------------------------------------------------------------------\u001b[0m",
      "\u001b[0;31mTypeError\u001b[0m                                 Traceback (most recent call last)",
      "Input \u001b[0;32mIn [77]\u001b[0m, in \u001b[0;36m<cell line: 1>\u001b[0;34m()\u001b[0m\n\u001b[0;32m----> 1\u001b[0m \u001b[43m{\u001b[49m\u001b[43m}\u001b[49m\u001b[43m \u001b[49m\u001b[38;5;241;43m+\u001b[39;49m\u001b[43m \u001b[49m\u001b[43m{\u001b[49m\u001b[43m}\u001b[49m\n",
      "\u001b[0;31mTypeError\u001b[0m: unsupported operand type(s) for +: 'dict' and 'dict'"
     ]
    }
   ],
   "source": [
    "{} + {}\n",
    "\n",
    "#will error\n"
   ]
  }
 ],
 "metadata": {
  "kernelspec": {
   "display_name": "Python 3 (ipykernel)",
   "language": "python",
   "name": "python3"
  },
  "language_info": {
   "codemirror_mode": {
    "name": "ipython",
    "version": 3
   },
   "file_extension": ".py",
   "mimetype": "text/x-python",
   "name": "python",
   "nbconvert_exporter": "python",
   "pygments_lexer": "ipython3",
   "version": "3.9.13"
  },
  "vscode": {
   "interpreter": {
    "hash": "31f2aee4e71d21fbe5cf8b01ff0e069b9275f58929596ceb00d14d90e3e16cd6"
   }
  }
 },
 "nbformat": 4,
 "nbformat_minor": 5
}
