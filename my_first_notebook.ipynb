{
 "cells": [
  {
   "cell_type": "code",
   "execution_count": null,
   "id": "16f27d75",
   "metadata": {},
   "outputs": [],
   "source": [
    "#Good to remember keyboard shortcuts\n",
    "\n",
    "# Enter - Creates a new line within the cell\n",
    "# Shift + Enter - Runs the current cell\n",
    "# Ctrl + S - Saves\n",
    "# Esc + A - Inserts cell above current\n",
    "# Esc + B - Inserts cell below current\n",
    "# Esc + X - Cuts selected cell\n"
   ]
  },
  {
   "cell_type": "code",
   "execution_count": null,
   "id": "b862bf34",
   "metadata": {},
   "outputs": [],
   "source": [
    "#Demo of type function\n"
   ]
  },
  {
   "cell_type": "code",
   "execution_count": 8,
   "id": "1a04deda",
   "metadata": {},
   "outputs": [
    {
     "data": {
      "text/plain": [
       "int"
      ]
     },
     "execution_count": 8,
     "metadata": {},
     "output_type": "execute_result"
    }
   ],
   "source": [
    "type(123)\n"
   ]
  },
  {
   "cell_type": "code",
   "execution_count": 9,
   "id": "3e1c856b",
   "metadata": {},
   "outputs": [
    {
     "data": {
      "text/plain": [
       "str"
      ]
     },
     "execution_count": 9,
     "metadata": {},
     "output_type": "execute_result"
    }
   ],
   "source": [
    "type('hello')\n"
   ]
  },
  {
   "cell_type": "code",
   "execution_count": 4,
   "id": "b1bb3d90",
   "metadata": {},
   "outputs": [
    {
     "data": {
      "text/plain": [
       "bool"
      ]
     },
     "execution_count": 4,
     "metadata": {},
     "output_type": "execute_result"
    }
   ],
   "source": [
    "type(True) #Or type(False)\n"
   ]
  },
  {
   "cell_type": "code",
   "execution_count": 7,
   "id": "c6b2a578",
   "metadata": {},
   "outputs": [
    {
     "data": {
      "text/plain": [
       "float"
      ]
     },
     "execution_count": 7,
     "metadata": {},
     "output_type": "execute_result"
    }
   ],
   "source": [
    "type(1.23)\n"
   ]
  },
  {
   "cell_type": "code",
   "execution_count": null,
   "id": "57c7a573",
   "metadata": {},
   "outputs": [],
   "source": [
    "#Assigning a variable\n"
   ]
  },
  {
   "cell_type": "code",
   "execution_count": 10,
   "id": "d91c4588",
   "metadata": {},
   "outputs": [],
   "source": [
    "favorite_number = 412\n",
    "n = favorite_number + 5\n"
   ]
  },
  {
   "cell_type": "code",
   "execution_count": 12,
   "id": "bce466d1",
   "metadata": {},
   "outputs": [
    {
     "name": "stdout",
     "output_type": "stream",
     "text": [
      "412\n"
     ]
    }
   ],
   "source": [
    "#Printing the variable\n",
    "print(favorite_number)\n"
   ]
  },
  {
   "cell_type": "code",
   "execution_count": 13,
   "id": "2ec0a1ac",
   "metadata": {},
   "outputs": [
    {
     "data": {
      "text/plain": [
       "int"
      ]
     },
     "execution_count": 13,
     "metadata": {},
     "output_type": "execute_result"
    }
   ],
   "source": [
    "#Can use tab to autocomplete \n",
    "type(favorite_number)\n"
   ]
  },
  {
   "cell_type": "code",
   "execution_count": 14,
   "id": "d95d83e0",
   "metadata": {},
   "outputs": [
    {
     "name": "stdout",
     "output_type": "stream",
     "text": [
      "1\n",
      "2\n",
      "8\n"
     ]
    }
   ],
   "source": [
    "x = 1\n",
    "print(x)\n",
    "x = x + 1\n",
    "print(x)\n",
    "x = x * 3 + x\n",
    "print(x)\n"
   ]
  },
  {
   "cell_type": "code",
   "execution_count": 17,
   "id": "41416f0b",
   "metadata": {},
   "outputs": [
    {
     "data": {
      "text/plain": [
       "True"
      ]
     },
     "execution_count": 17,
     "metadata": {},
     "output_type": "execute_result"
    }
   ],
   "source": [
    "#Boolean Values\n",
    "#True (with a caplital T)\n",
    "#False (with a capital F)\n",
    "\n",
    "#Checking equality\n",
    "True == True \n"
   ]
  },
  {
   "cell_type": "code",
   "execution_count": 18,
   "id": "2d2ccf45",
   "metadata": {},
   "outputs": [
    {
     "data": {
      "text/plain": [
       "False"
      ]
     },
     "execution_count": 18,
     "metadata": {},
     "output_type": "execute_result"
    }
   ],
   "source": [
    "#Does True equal False?\n",
    "\n",
    "True == False\n"
   ]
  },
  {
   "cell_type": "code",
   "execution_count": 19,
   "id": "dd1d30a2",
   "metadata": {},
   "outputs": [
    {
     "data": {
      "text/plain": [
       "False"
      ]
     },
     "execution_count": 19,
     "metadata": {},
     "output_type": "execute_result"
    }
   ],
   "source": [
    "#Checking Inequality\n",
    "\n",
    "True != True\n"
   ]
  },
  {
   "cell_type": "code",
   "execution_count": 20,
   "id": "b8c8a104",
   "metadata": {},
   "outputs": [
    {
     "data": {
      "text/plain": [
       "True"
      ]
     },
     "execution_count": 20,
     "metadata": {},
     "output_type": "execute_result"
    }
   ],
   "source": [
    "#Is True not equal to False\n",
    "\n",
    "True != False\n"
   ]
  },
  {
   "cell_type": "code",
   "execution_count": 21,
   "id": "285dbd82",
   "metadata": {},
   "outputs": [
    {
     "data": {
      "text/plain": [
       "True"
      ]
     },
     "execution_count": 21,
     "metadata": {},
     "output_type": "execute_result"
    }
   ],
   "source": [
    "#not operator\n",
    "#Takes the opposite boolean value\n",
    "\n",
    "not False\n"
   ]
  },
  {
   "cell_type": "code",
   "execution_count": 24,
   "id": "d9f1de25",
   "metadata": {},
   "outputs": [
    {
     "data": {
      "text/plain": [
       "True"
      ]
     },
     "execution_count": 24,
     "metadata": {},
     "output_type": "execute_result"
    }
   ],
   "source": [
    "#Apparently True\n",
    "not not not not not not not not not not not not not not True\n"
   ]
  },
  {
   "cell_type": "code",
   "execution_count": 25,
   "id": "7ffd704a",
   "metadata": {},
   "outputs": [
    {
     "data": {
      "text/plain": [
       "True"
      ]
     },
     "execution_count": 25,
     "metadata": {},
     "output_type": "execute_result"
    }
   ],
   "source": [
    "#and operator\n",
    "#Equals True when both statements are True\n",
    "True and True\n"
   ]
  },
  {
   "cell_type": "code",
   "execution_count": 28,
   "id": "7e3b2f54",
   "metadata": {},
   "outputs": [
    {
     "data": {
      "text/plain": [
       "False"
      ]
     },
     "execution_count": 28,
     "metadata": {},
     "output_type": "execute_result"
    }
   ],
   "source": [
    "#Evaluating and operators\n",
    "\n",
    "#True and True = True\n",
    "#True and False = False\n",
    "#False and False = False\n"
   ]
  },
  {
   "cell_type": "code",
   "execution_count": null,
   "id": "bc8bd6ee",
   "metadata": {},
   "outputs": [],
   "source": [
    "#or operator\n",
    "\n",
    "#True or True = True\n",
    "#True or False = True\n",
    "#False or False = False\n"
   ]
  },
  {
   "cell_type": "code",
   "execution_count": 30,
   "id": "922d1022",
   "metadata": {},
   "outputs": [
    {
     "name": "stdout",
     "output_type": "stream",
     "text": [
      "True\n"
     ]
    }
   ],
   "source": [
    "#Assigning Boolean values to a variable\n",
    "\n",
    "is_first_of_the_month = True\n",
    "report_has_been_sent = False\n",
    "\n",
    "should_process_report = is_first_of_the_month and not report_has_been_sent\n",
    "\n",
    "#Equivalent to asking True and not False\n",
    "#The not operator basically reverses a boolean value\n",
    "#Which means this is equivalent to asking True and True\n",
    "#Which is True\n",
    "\n",
    "print(should_process_report)\n",
    "\n",
    "#Evaluate the Boolean values\n"
   ]
  },
  {
   "cell_type": "code",
   "execution_count": 31,
   "id": "35173ae9",
   "metadata": {},
   "outputs": [
    {
     "data": {
      "text/plain": [
       "True"
      ]
     },
     "execution_count": 31,
     "metadata": {},
     "output_type": "execute_result"
    }
   ],
   "source": [
    "#Comparision operators\n",
    "\n",
    "1 == 1\n"
   ]
  },
  {
   "cell_type": "code",
   "execution_count": 32,
   "id": "1534d2a8",
   "metadata": {},
   "outputs": [
    {
     "data": {
      "text/plain": [
       "True"
      ]
     },
     "execution_count": 32,
     "metadata": {},
     "output_type": "execute_result"
    }
   ],
   "source": [
    "#Comparing two strings\n",
    "\n",
    "'string' == 'string'\n"
   ]
  },
  {
   "cell_type": "code",
   "execution_count": 33,
   "id": "422dfd06",
   "metadata": {},
   "outputs": [
    {
     "data": {
      "text/plain": [
       "False"
      ]
     },
     "execution_count": 33,
     "metadata": {},
     "output_type": "execute_result"
    }
   ],
   "source": [
    "'string' == 'String'\n"
   ]
  },
  {
   "cell_type": "code",
   "execution_count": 34,
   "id": "2668abdf",
   "metadata": {},
   "outputs": [
    {
     "data": {
      "text/plain": [
       "False"
      ]
     },
     "execution_count": 34,
     "metadata": {},
     "output_type": "execute_result"
    }
   ],
   "source": [
    "#Checking inequality\n",
    "#1 is NOT equal to 0\n",
    "1 != 1\n"
   ]
  },
  {
   "cell_type": "code",
   "execution_count": 35,
   "id": "3e05de41",
   "metadata": {},
   "outputs": [
    {
     "data": {
      "text/plain": [
       "True"
      ]
     },
     "execution_count": 35,
     "metadata": {},
     "output_type": "execute_result"
    }
   ],
   "source": [
    "#Check if value is greater than another\n",
    "#Is 1 greater than 0?\n",
    "1 > 0\n"
   ]
  },
  {
   "cell_type": "code",
   "execution_count": 36,
   "id": "865939d4",
   "metadata": {},
   "outputs": [
    {
     "data": {
      "text/plain": [
       "False"
      ]
     },
     "execution_count": 36,
     "metadata": {},
     "output_type": "execute_result"
    }
   ],
   "source": [
    "#Is 5 less than 4?\n",
    "5 < 4\n"
   ]
  },
  {
   "cell_type": "code",
   "execution_count": 37,
   "id": "74d99486",
   "metadata": {},
   "outputs": [
    {
     "data": {
      "text/plain": [
       "False"
      ]
     },
     "execution_count": 37,
     "metadata": {},
     "output_type": "execute_result"
    }
   ],
   "source": [
    "#Greater than or equal to AND Less than or equal to\n",
    "#Is 5 greater than or equal to 5?\n",
    "5 > 5\n"
   ]
  },
  {
   "cell_type": "code",
   "execution_count": 38,
   "id": "afcc40fe",
   "metadata": {},
   "outputs": [
    {
     "data": {
      "text/plain": [
       "True"
      ]
     },
     "execution_count": 38,
     "metadata": {},
     "output_type": "execute_result"
    }
   ],
   "source": [
    "5 >= 5\n"
   ]
  },
  {
   "cell_type": "code",
   "execution_count": 39,
   "id": "fe1dfc88",
   "metadata": {},
   "outputs": [
    {
     "data": {
      "text/plain": [
       "False"
      ]
     },
     "execution_count": 39,
     "metadata": {},
     "output_type": "execute_result"
    }
   ],
   "source": [
    "17 <= 12\n"
   ]
  },
  {
   "cell_type": "code",
   "execution_count": 40,
   "id": "ce8ae644",
   "metadata": {},
   "outputs": [
    {
     "data": {
      "text/plain": [
       "True"
      ]
     },
     "execution_count": 40,
     "metadata": {},
     "output_type": "execute_result"
    }
   ],
   "source": [
    "4 + 5 > 10 - 2\n"
   ]
  },
  {
   "cell_type": "code",
   "execution_count": 53,
   "id": "c0b03c40",
   "metadata": {},
   "outputs": [
    {
     "data": {
      "text/plain": [
       "'   hello, codeup!   '"
      ]
     },
     "execution_count": 53,
     "metadata": {},
     "output_type": "execute_result"
    }
   ],
   "source": [
    "#Strings\n",
    "#Manipulating the string\n",
    "\n",
    "s = '   Hello, Codeup!   '\n",
    "\n",
    "#lower() - Makes the string lowercase\n",
    "\n",
    "s.lower()\n"
   ]
  },
  {
   "cell_type": "code",
   "execution_count": 45,
   "id": "7fb1360b",
   "metadata": {},
   "outputs": [
    {
     "data": {
      "text/plain": [
       "'Hello, Codeup!'"
      ]
     },
     "execution_count": 45,
     "metadata": {},
     "output_type": "execute_result"
    }
   ],
   "source": [
    "#strip() - Removes excess spaces on either end of string, NOT inside of the string\n",
    "\n",
    "s.strip()\n"
   ]
  },
  {
   "cell_type": "code",
   "execution_count": 46,
   "id": "cceec45c",
   "metadata": {},
   "outputs": [
    {
     "data": {
      "text/plain": [
       "False"
      ]
     },
     "execution_count": 46,
     "metadata": {},
     "output_type": "execute_result"
    }
   ],
   "source": [
    "#isdigit() - Checks if string is a digit\n",
    "#Returns true if digit, False if not\n",
    "\n",
    "s.isdigit()\n"
   ]
  },
  {
   "cell_type": "code",
   "execution_count": 52,
   "id": "1aabb0b2",
   "metadata": {},
   "outputs": [
    {
     "data": {
      "text/plain": [
       "['Hello Codeup!']"
      ]
     },
     "execution_count": 52,
     "metadata": {},
     "output_type": "execute_result"
    }
   ],
   "source": [
    "#split() - Converts a string to a list, turns whole string into one entry in a list\n",
    "#Can use multiple methods at once\n",
    "\n",
    "s.strip().split(', ')\n"
   ]
  },
  {
   "cell_type": "code",
   "execution_count": 54,
   "id": "03f1e8ad",
   "metadata": {},
   "outputs": [
    {
     "data": {
      "text/plain": [
       "'one, two, three'"
      ]
     },
     "execution_count": 54,
     "metadata": {},
     "output_type": "execute_result"
    }
   ],
   "source": [
    "#join() - Converts a list into a string\n",
    "#\n",
    "', '.join(['one', 'two', 'three'])\n"
   ]
  },
  {
   "cell_type": "code",
   "execution_count": 55,
   "id": "9a674c06",
   "metadata": {},
   "outputs": [
    {
     "data": {
      "text/plain": [
       "[1, 2, 3]"
      ]
     },
     "execution_count": 55,
     "metadata": {},
     "output_type": "execute_result"
    }
   ],
   "source": [
    "#Creating a list\n",
    "#Enclosed in square brackets\n",
    "#Every element of a list is separated by a comma\n",
    "\n",
    "[1, 2, 3]\n"
   ]
  },
  {
   "cell_type": "code",
   "execution_count": 56,
   "id": "715b1385",
   "metadata": {},
   "outputs": [
    {
     "data": {
      "text/plain": [
       "list"
      ]
     },
     "execution_count": 56,
     "metadata": {},
     "output_type": "execute_result"
    }
   ],
   "source": [
    "type([1, 2, 3])"
   ]
  },
  {
   "cell_type": "code",
   "execution_count": 57,
   "id": "a17ba174",
   "metadata": {},
   "outputs": [
    {
     "data": {
      "text/plain": [
       "['one', 'two', 'three']"
      ]
     },
     "execution_count": 57,
     "metadata": {},
     "output_type": "execute_result"
    }
   ],
   "source": [
    "#List with strings\n",
    "\n",
    "['one', 'two', 'three']\n"
   ]
  },
  {
   "cell_type": "code",
   "execution_count": 59,
   "id": "10f8fe70",
   "metadata": {},
   "outputs": [
    {
     "name": "stdout",
     "output_type": "stream",
     "text": [
      "['one', 'two', 'three']\n"
     ]
    }
   ],
   "source": [
    "#Assigning the list a variable\n",
    "\n",
    "my_list = ['one', 'two', 'three']\n",
    "print(my_list)\n"
   ]
  },
  {
   "cell_type": "code",
   "execution_count": 60,
   "id": "fd3b4391",
   "metadata": {},
   "outputs": [
    {
     "data": {
      "text/plain": [
       "[[1, 2, 3], [4, 5, 6], [7, 8, 9]]"
      ]
     },
     "execution_count": 60,
     "metadata": {},
     "output_type": "execute_result"
    }
   ],
   "source": [
    "#Lists can contain lists\n",
    "\n",
    "[[1, 2, 3], [4, 5, 6], [7, 8, 9]]\n"
   ]
  },
  {
   "cell_type": "code",
   "execution_count": 61,
   "id": "1210eaab",
   "metadata": {},
   "outputs": [
    {
     "data": {
      "text/plain": [
       "[0, 1, 2, 3, 4, 5, 6, 7, 8, 9]"
      ]
     },
     "execution_count": 61,
     "metadata": {},
     "output_type": "execute_result"
    }
   ],
   "source": [
    "#Creating lists with list comprehension\n",
    "\n",
    "[n for n in range(10)]\n",
    "\n",
    "#Python is 0 indexed, and thus starts at 0\n",
    "#Does not include 10, since we started at 0 and returned 10 integers within the list\n"
   ]
  },
  {
   "cell_type": "code",
   "execution_count": 62,
   "id": "b236607e",
   "metadata": {},
   "outputs": [
    {
     "data": {
      "text/plain": [
       "[0, 2, 4, 6, 8, 10, 12, 14, 16, 18]"
      ]
     },
     "execution_count": 62,
     "metadata": {},
     "output_type": "execute_result"
    }
   ],
   "source": [
    "#Returns n 10 times, starting with 0 and multiplying each instance by 2\n",
    "\n",
    "[n * 2 for n in range(10)]\n",
    "\n"
   ]
  },
  {
   "cell_type": "code",
   "execution_count": 63,
   "id": "6453522a",
   "metadata": {},
   "outputs": [
    {
     "data": {
      "text/plain": [
       "[0, 4, 8, 12, 16]"
      ]
     },
     "execution_count": 63,
     "metadata": {},
     "output_type": "execute_result"
    }
   ],
   "source": [
    "#Checking if n % 2 is equal to zero \n",
    "#if statements takes n before multiplication, ie 1 / 2, 2 / 2, 3 /2, ect, and is only adding values\n",
    "#to the list if the remainder is 0, which means the number (n) is false\n",
    "#SO \n",
    "# n = 0 condition is True\n",
    "# n = 1 condition False\n",
    "# n = 2 condition True\n",
    "# n = 3 condition False\n",
    "\n",
    "[n * 2 for n in range(10) if n % 2 == 0]\n"
   ]
  }
 ],
 "metadata": {
  "kernelspec": {
   "display_name": "Python 3 (ipykernel)",
   "language": "python",
   "name": "python3"
  },
  "language_info": {
   "codemirror_mode": {
    "name": "ipython",
    "version": 3
   },
   "file_extension": ".py",
   "mimetype": "text/x-python",
   "name": "python",
   "nbconvert_exporter": "python",
   "pygments_lexer": "ipython3",
   "version": "3.9.13"
  }
 },
 "nbformat": 4,
 "nbformat_minor": 5
}
